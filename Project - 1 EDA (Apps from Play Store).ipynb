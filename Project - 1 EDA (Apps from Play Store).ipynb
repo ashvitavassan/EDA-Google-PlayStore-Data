{
 "cells": [
  {
   "cell_type": "markdown",
   "id": "759de1c8",
   "metadata": {},
   "source": [
    "# EDA of Google Playstore Data"
   ]
  },
  {
   "cell_type": "code",
   "execution_count": 1,
   "id": "d968490d",
   "metadata": {},
   "outputs": [],
   "source": [
    "import numpy as np\n",
    "import pandas as pd\n",
    "import matplotlib.pyplot as plt\n",
    "import seaborn as sns\n",
    "\n",
    "%matplotlib inline     "
   ]
  },
  {
   "cell_type": "code",
   "execution_count": 2,
   "id": "e32c189a",
   "metadata": {},
   "outputs": [],
   "source": [
    "df = pd.read_csv(\"Google-Playstore.csv\")"
   ]
  },
  {
   "cell_type": "code",
   "execution_count": 3,
   "id": "7d111cf1",
   "metadata": {
    "scrolled": false
   },
   "outputs": [
    {
     "data": {
      "text/html": [
       "<div>\n",
       "<style scoped>\n",
       "    .dataframe tbody tr th:only-of-type {\n",
       "        vertical-align: middle;\n",
       "    }\n",
       "\n",
       "    .dataframe tbody tr th {\n",
       "        vertical-align: top;\n",
       "    }\n",
       "\n",
       "    .dataframe thead th {\n",
       "        text-align: right;\n",
       "    }\n",
       "</style>\n",
       "<table border=\"1\" class=\"dataframe\">\n",
       "  <thead>\n",
       "    <tr style=\"text-align: right;\">\n",
       "      <th></th>\n",
       "      <th>App Name</th>\n",
       "      <th>App Id</th>\n",
       "      <th>Category</th>\n",
       "      <th>Rating</th>\n",
       "      <th>Rating Count</th>\n",
       "      <th>Installs</th>\n",
       "      <th>Minimum Installs</th>\n",
       "      <th>Maximum Installs</th>\n",
       "      <th>Free</th>\n",
       "      <th>Price</th>\n",
       "      <th>...</th>\n",
       "      <th>Developer Website</th>\n",
       "      <th>Developer Email</th>\n",
       "      <th>Released</th>\n",
       "      <th>Last Updated</th>\n",
       "      <th>Content Rating</th>\n",
       "      <th>Privacy Policy</th>\n",
       "      <th>Ad Supported</th>\n",
       "      <th>In App Purchases</th>\n",
       "      <th>Editors Choice</th>\n",
       "      <th>Scraped Time</th>\n",
       "    </tr>\n",
       "  </thead>\n",
       "  <tbody>\n",
       "    <tr>\n",
       "      <th>0</th>\n",
       "      <td>Gakondo</td>\n",
       "      <td>com.ishakwe.gakondo</td>\n",
       "      <td>Adventure</td>\n",
       "      <td>0.0</td>\n",
       "      <td>0.0</td>\n",
       "      <td>10+</td>\n",
       "      <td>10.0</td>\n",
       "      <td>15</td>\n",
       "      <td>True</td>\n",
       "      <td>0.0</td>\n",
       "      <td>...</td>\n",
       "      <td>https://beniyizibyose.tk/#/</td>\n",
       "      <td>jean21101999@gmail.com</td>\n",
       "      <td>Feb 26, 2020</td>\n",
       "      <td>Feb 26, 2020</td>\n",
       "      <td>Everyone</td>\n",
       "      <td>https://beniyizibyose.tk/projects/</td>\n",
       "      <td>False</td>\n",
       "      <td>False</td>\n",
       "      <td>False</td>\n",
       "      <td>2021-06-15 20:19:35</td>\n",
       "    </tr>\n",
       "    <tr>\n",
       "      <th>1</th>\n",
       "      <td>Ampere Battery Info</td>\n",
       "      <td>com.webserveis.batteryinfo</td>\n",
       "      <td>Tools</td>\n",
       "      <td>4.4</td>\n",
       "      <td>64.0</td>\n",
       "      <td>5,000+</td>\n",
       "      <td>5000.0</td>\n",
       "      <td>7662</td>\n",
       "      <td>True</td>\n",
       "      <td>0.0</td>\n",
       "      <td>...</td>\n",
       "      <td>https://webserveis.netlify.app/</td>\n",
       "      <td>webserveis@gmail.com</td>\n",
       "      <td>May 21, 2020</td>\n",
       "      <td>May 06, 2021</td>\n",
       "      <td>Everyone</td>\n",
       "      <td>https://dev4phones.wordpress.com/licencia-de-uso/</td>\n",
       "      <td>True</td>\n",
       "      <td>False</td>\n",
       "      <td>False</td>\n",
       "      <td>2021-06-15 20:19:35</td>\n",
       "    </tr>\n",
       "    <tr>\n",
       "      <th>2</th>\n",
       "      <td>Vibook</td>\n",
       "      <td>com.doantiepvien.crm</td>\n",
       "      <td>Productivity</td>\n",
       "      <td>0.0</td>\n",
       "      <td>0.0</td>\n",
       "      <td>50+</td>\n",
       "      <td>50.0</td>\n",
       "      <td>58</td>\n",
       "      <td>True</td>\n",
       "      <td>0.0</td>\n",
       "      <td>...</td>\n",
       "      <td>NaN</td>\n",
       "      <td>vnacrewit@gmail.com</td>\n",
       "      <td>Aug 9, 2019</td>\n",
       "      <td>Aug 19, 2019</td>\n",
       "      <td>Everyone</td>\n",
       "      <td>https://www.vietnamairlines.com/vn/en/terms-an...</td>\n",
       "      <td>False</td>\n",
       "      <td>False</td>\n",
       "      <td>False</td>\n",
       "      <td>2021-06-15 20:19:35</td>\n",
       "    </tr>\n",
       "    <tr>\n",
       "      <th>3</th>\n",
       "      <td>Smart City Trichy Public Service Vehicles 17UC...</td>\n",
       "      <td>cst.stJoseph.ug17ucs548</td>\n",
       "      <td>Communication</td>\n",
       "      <td>5.0</td>\n",
       "      <td>5.0</td>\n",
       "      <td>10+</td>\n",
       "      <td>10.0</td>\n",
       "      <td>19</td>\n",
       "      <td>True</td>\n",
       "      <td>0.0</td>\n",
       "      <td>...</td>\n",
       "      <td>http://www.climatesmarttech.com/</td>\n",
       "      <td>climatesmarttech2@gmail.com</td>\n",
       "      <td>Sep 10, 2018</td>\n",
       "      <td>Oct 13, 2018</td>\n",
       "      <td>Everyone</td>\n",
       "      <td>NaN</td>\n",
       "      <td>True</td>\n",
       "      <td>False</td>\n",
       "      <td>False</td>\n",
       "      <td>2021-06-15 20:19:35</td>\n",
       "    </tr>\n",
       "    <tr>\n",
       "      <th>4</th>\n",
       "      <td>GROW.me</td>\n",
       "      <td>com.horodyski.grower</td>\n",
       "      <td>Tools</td>\n",
       "      <td>0.0</td>\n",
       "      <td>0.0</td>\n",
       "      <td>100+</td>\n",
       "      <td>100.0</td>\n",
       "      <td>478</td>\n",
       "      <td>True</td>\n",
       "      <td>0.0</td>\n",
       "      <td>...</td>\n",
       "      <td>http://www.horodyski.com.pl</td>\n",
       "      <td>rmilekhorodyski@gmail.com</td>\n",
       "      <td>Feb 21, 2020</td>\n",
       "      <td>Nov 12, 2018</td>\n",
       "      <td>Everyone</td>\n",
       "      <td>http://www.horodyski.com.pl</td>\n",
       "      <td>False</td>\n",
       "      <td>False</td>\n",
       "      <td>False</td>\n",
       "      <td>2021-06-15 20:19:35</td>\n",
       "    </tr>\n",
       "  </tbody>\n",
       "</table>\n",
       "<p>5 rows × 24 columns</p>\n",
       "</div>"
      ],
      "text/plain": [
       "                                            App Name  \\\n",
       "0                                            Gakondo   \n",
       "1                                Ampere Battery Info   \n",
       "2                                             Vibook   \n",
       "3  Smart City Trichy Public Service Vehicles 17UC...   \n",
       "4                                            GROW.me   \n",
       "\n",
       "                       App Id       Category  Rating  Rating Count Installs  \\\n",
       "0         com.ishakwe.gakondo      Adventure     0.0           0.0      10+   \n",
       "1  com.webserveis.batteryinfo          Tools     4.4          64.0   5,000+   \n",
       "2        com.doantiepvien.crm   Productivity     0.0           0.0      50+   \n",
       "3     cst.stJoseph.ug17ucs548  Communication     5.0           5.0      10+   \n",
       "4        com.horodyski.grower          Tools     0.0           0.0     100+   \n",
       "\n",
       "   Minimum Installs  Maximum Installs  Free  Price  ...  \\\n",
       "0              10.0                15  True    0.0  ...   \n",
       "1            5000.0              7662  True    0.0  ...   \n",
       "2              50.0                58  True    0.0  ...   \n",
       "3              10.0                19  True    0.0  ...   \n",
       "4             100.0               478  True    0.0  ...   \n",
       "\n",
       "                  Developer Website              Developer Email  \\\n",
       "0       https://beniyizibyose.tk/#/       jean21101999@gmail.com   \n",
       "1   https://webserveis.netlify.app/         webserveis@gmail.com   \n",
       "2                               NaN          vnacrewit@gmail.com   \n",
       "3  http://www.climatesmarttech.com/  climatesmarttech2@gmail.com   \n",
       "4       http://www.horodyski.com.pl    rmilekhorodyski@gmail.com   \n",
       "\n",
       "       Released  Last Updated Content Rating  \\\n",
       "0  Feb 26, 2020  Feb 26, 2020       Everyone   \n",
       "1  May 21, 2020  May 06, 2021       Everyone   \n",
       "2   Aug 9, 2019  Aug 19, 2019       Everyone   \n",
       "3  Sep 10, 2018  Oct 13, 2018       Everyone   \n",
       "4  Feb 21, 2020  Nov 12, 2018       Everyone   \n",
       "\n",
       "                                      Privacy Policy Ad Supported  \\\n",
       "0                 https://beniyizibyose.tk/projects/        False   \n",
       "1  https://dev4phones.wordpress.com/licencia-de-uso/         True   \n",
       "2  https://www.vietnamairlines.com/vn/en/terms-an...        False   \n",
       "3                                                NaN         True   \n",
       "4                        http://www.horodyski.com.pl        False   \n",
       "\n",
       "  In App Purchases Editors Choice         Scraped Time  \n",
       "0            False          False  2021-06-15 20:19:35  \n",
       "1            False          False  2021-06-15 20:19:35  \n",
       "2            False          False  2021-06-15 20:19:35  \n",
       "3            False          False  2021-06-15 20:19:35  \n",
       "4            False          False  2021-06-15 20:19:35  \n",
       "\n",
       "[5 rows x 24 columns]"
      ]
     },
     "execution_count": 3,
     "metadata": {},
     "output_type": "execute_result"
    }
   ],
   "source": [
    "df.head()"
   ]
  },
  {
   "cell_type": "code",
   "execution_count": 4,
   "id": "8f922e1f",
   "metadata": {},
   "outputs": [
    {
     "data": {
      "text/html": [
       "<div>\n",
       "<style scoped>\n",
       "    .dataframe tbody tr th:only-of-type {\n",
       "        vertical-align: middle;\n",
       "    }\n",
       "\n",
       "    .dataframe tbody tr th {\n",
       "        vertical-align: top;\n",
       "    }\n",
       "\n",
       "    .dataframe thead th {\n",
       "        text-align: right;\n",
       "    }\n",
       "</style>\n",
       "<table border=\"1\" class=\"dataframe\">\n",
       "  <thead>\n",
       "    <tr style=\"text-align: right;\">\n",
       "      <th></th>\n",
       "      <th>Rating</th>\n",
       "      <th>Rating Count</th>\n",
       "      <th>Minimum Installs</th>\n",
       "      <th>Maximum Installs</th>\n",
       "      <th>Free</th>\n",
       "      <th>Price</th>\n",
       "      <th>Ad Supported</th>\n",
       "      <th>In App Purchases</th>\n",
       "      <th>Editors Choice</th>\n",
       "    </tr>\n",
       "  </thead>\n",
       "  <tbody>\n",
       "    <tr>\n",
       "      <th>Rating</th>\n",
       "      <td>1.000000</td>\n",
       "      <td>0.013038</td>\n",
       "      <td>0.011214</td>\n",
       "      <td>0.012615</td>\n",
       "      <td>-0.010756</td>\n",
       "      <td>-0.003674</td>\n",
       "      <td>0.160502</td>\n",
       "      <td>0.153820</td>\n",
       "      <td>0.019485</td>\n",
       "    </tr>\n",
       "    <tr>\n",
       "      <th>Rating Count</th>\n",
       "      <td>0.013038</td>\n",
       "      <td>1.000000</td>\n",
       "      <td>0.545281</td>\n",
       "      <td>0.547571</td>\n",
       "      <td>0.001410</td>\n",
       "      <td>-0.000411</td>\n",
       "      <td>0.005294</td>\n",
       "      <td>0.025737</td>\n",
       "      <td>0.137311</td>\n",
       "    </tr>\n",
       "    <tr>\n",
       "      <th>Minimum Installs</th>\n",
       "      <td>0.011214</td>\n",
       "      <td>0.545281</td>\n",
       "      <td>1.000000</td>\n",
       "      <td>0.954037</td>\n",
       "      <td>0.001623</td>\n",
       "      <td>-0.000461</td>\n",
       "      <td>0.002250</td>\n",
       "      <td>0.014179</td>\n",
       "      <td>0.059932</td>\n",
       "    </tr>\n",
       "    <tr>\n",
       "      <th>Maximum Installs</th>\n",
       "      <td>0.012615</td>\n",
       "      <td>0.547571</td>\n",
       "      <td>0.954037</td>\n",
       "      <td>1.000000</td>\n",
       "      <td>0.001815</td>\n",
       "      <td>-0.000515</td>\n",
       "      <td>0.002882</td>\n",
       "      <td>0.016101</td>\n",
       "      <td>0.064206</td>\n",
       "    </tr>\n",
       "    <tr>\n",
       "      <th>Free</th>\n",
       "      <td>-0.010756</td>\n",
       "      <td>0.001410</td>\n",
       "      <td>0.001623</td>\n",
       "      <td>0.001815</td>\n",
       "      <td>1.000000</td>\n",
       "      <td>-0.278831</td>\n",
       "      <td>0.123617</td>\n",
       "      <td>0.008669</td>\n",
       "      <td>-0.003157</td>\n",
       "    </tr>\n",
       "    <tr>\n",
       "      <th>Price</th>\n",
       "      <td>-0.003674</td>\n",
       "      <td>-0.000411</td>\n",
       "      <td>-0.000461</td>\n",
       "      <td>-0.000515</td>\n",
       "      <td>-0.278831</td>\n",
       "      <td>1.000000</td>\n",
       "      <td>-0.034276</td>\n",
       "      <td>-0.002634</td>\n",
       "      <td>0.000503</td>\n",
       "    </tr>\n",
       "    <tr>\n",
       "      <th>Ad Supported</th>\n",
       "      <td>0.160502</td>\n",
       "      <td>0.005294</td>\n",
       "      <td>0.002250</td>\n",
       "      <td>0.002882</td>\n",
       "      <td>0.123617</td>\n",
       "      <td>-0.034276</td>\n",
       "      <td>1.000000</td>\n",
       "      <td>0.138312</td>\n",
       "      <td>0.005702</td>\n",
       "    </tr>\n",
       "    <tr>\n",
       "      <th>In App Purchases</th>\n",
       "      <td>0.153820</td>\n",
       "      <td>0.025737</td>\n",
       "      <td>0.014179</td>\n",
       "      <td>0.016101</td>\n",
       "      <td>0.008669</td>\n",
       "      <td>-0.002634</td>\n",
       "      <td>0.138312</td>\n",
       "      <td>1.000000</td>\n",
       "      <td>0.046078</td>\n",
       "    </tr>\n",
       "    <tr>\n",
       "      <th>Editors Choice</th>\n",
       "      <td>0.019485</td>\n",
       "      <td>0.137311</td>\n",
       "      <td>0.059932</td>\n",
       "      <td>0.064206</td>\n",
       "      <td>-0.003157</td>\n",
       "      <td>0.000503</td>\n",
       "      <td>0.005702</td>\n",
       "      <td>0.046078</td>\n",
       "      <td>1.000000</td>\n",
       "    </tr>\n",
       "  </tbody>\n",
       "</table>\n",
       "</div>"
      ],
      "text/plain": [
       "                    Rating  Rating Count  Minimum Installs  Maximum Installs  \\\n",
       "Rating            1.000000      0.013038          0.011214          0.012615   \n",
       "Rating Count      0.013038      1.000000          0.545281          0.547571   \n",
       "Minimum Installs  0.011214      0.545281          1.000000          0.954037   \n",
       "Maximum Installs  0.012615      0.547571          0.954037          1.000000   \n",
       "Free             -0.010756      0.001410          0.001623          0.001815   \n",
       "Price            -0.003674     -0.000411         -0.000461         -0.000515   \n",
       "Ad Supported      0.160502      0.005294          0.002250          0.002882   \n",
       "In App Purchases  0.153820      0.025737          0.014179          0.016101   \n",
       "Editors Choice    0.019485      0.137311          0.059932          0.064206   \n",
       "\n",
       "                      Free     Price  Ad Supported  In App Purchases  \\\n",
       "Rating           -0.010756 -0.003674      0.160502          0.153820   \n",
       "Rating Count      0.001410 -0.000411      0.005294          0.025737   \n",
       "Minimum Installs  0.001623 -0.000461      0.002250          0.014179   \n",
       "Maximum Installs  0.001815 -0.000515      0.002882          0.016101   \n",
       "Free              1.000000 -0.278831      0.123617          0.008669   \n",
       "Price            -0.278831  1.000000     -0.034276         -0.002634   \n",
       "Ad Supported      0.123617 -0.034276      1.000000          0.138312   \n",
       "In App Purchases  0.008669 -0.002634      0.138312          1.000000   \n",
       "Editors Choice   -0.003157  0.000503      0.005702          0.046078   \n",
       "\n",
       "                  Editors Choice  \n",
       "Rating                  0.019485  \n",
       "Rating Count            0.137311  \n",
       "Minimum Installs        0.059932  \n",
       "Maximum Installs        0.064206  \n",
       "Free                   -0.003157  \n",
       "Price                   0.000503  \n",
       "Ad Supported            0.005702  \n",
       "In App Purchases        0.046078  \n",
       "Editors Choice          1.000000  "
      ]
     },
     "execution_count": 4,
     "metadata": {},
     "output_type": "execute_result"
    }
   ],
   "source": [
    "df.corr()"
   ]
  },
  {
   "cell_type": "code",
   "execution_count": 5,
   "id": "00a2a4c0",
   "metadata": {},
   "outputs": [
    {
     "data": {
      "text/plain": [
       "<AxesSubplot:>"
      ]
     },
     "execution_count": 5,
     "metadata": {},
     "output_type": "execute_result"
    },
    {
     "data": {
      "image/png": "[encoded data removed]",
      "text/plain": [
       "<Figure size 432x288 with 2 Axes>"
      ]
     },
     "metadata": {
      "needs_background": "light"
     },
     "output_type": "display_data"
    }
   ],
   "source": [
    "sns.heatmap(df.corr())"
   ]
  },
  {
   "cell_type": "code",
   "execution_count": 6,
   "id": "0219918d",
   "metadata": {
    "scrolled": true
   },
   "outputs": [
    {
     "data": {
      "text/plain": [
       "(2312944, 24)"
      ]
     },
     "execution_count": 6,
     "metadata": {},
     "output_type": "execute_result"
    }
   ],
   "source": [
    "df.shape"
   ]
  },
  {
   "cell_type": "code",
   "execution_count": 7,
   "id": "26c9f7c4",
   "metadata": {},
   "outputs": [
    {
     "name": "stdout",
     "output_type": "stream",
     "text": [
      "<class 'pandas.core.frame.DataFrame'>\n",
      "RangeIndex: 2312944 entries, 0 to 2312943\n",
      "Data columns (total 24 columns):\n",
      " #   Column             Dtype  \n",
      "---  ------             -----  \n",
      " 0   App Name           object \n",
      " 1   App Id             object \n",
      " 2   Category           object \n",
      " 3   Rating             float64\n",
      " 4   Rating Count       float64\n",
      " 5   Installs           object \n",
      " 6   Minimum Installs   float64\n",
      " 7   Maximum Installs   int64  \n",
      " 8   Free               bool   \n",
      " 9   Price              float64\n",
      " 10  Currency           object \n",
      " 11  Size               object \n",
      " 12  Minimum Android    object \n",
      " 13  Developer Id       object \n",
      " 14  Developer Website  object \n",
      " 15  Developer Email    object \n",
      " 16  Released           object \n",
      " 17  Last Updated       object \n",
      " 18  Content Rating     object \n",
      " 19  Privacy Policy     object \n",
      " 20  Ad Supported       bool   \n",
      " 21  In App Purchases   bool   \n",
      " 22  Editors Choice     bool   \n",
      " 23  Scraped Time       object \n",
      "dtypes: bool(4), float64(4), int64(1), object(15)\n",
      "memory usage: 361.8+ MB\n"
     ]
    }
   ],
   "source": [
    "df.info()"
   ]
  },
  {
   "cell_type": "code",
   "execution_count": 8,
   "id": "62e038bc",
   "metadata": {},
   "outputs": [
    {
     "data": {
      "text/plain": [
       "Index(['AppName', 'AppId', 'Category', 'Rating', 'RatingCount', 'Installs',\n",
       "       'MinimumInstalls', 'MaximumInstalls', 'Free', 'Price', 'Currency',\n",
       "       'Size', 'MinimumAndroid', 'DeveloperId', 'DeveloperWebsite',\n",
       "       'DeveloperEmail', 'Released', 'LastUpdated', 'ContentRating',\n",
       "       'PrivacyPolicy', 'AdSupported', 'InAppPurchases', 'EditorsChoice',\n",
       "       'ScrapedTime'],\n",
       "      dtype='object')"
      ]
     },
     "execution_count": 8,
     "metadata": {},
     "output_type": "execute_result"
    }
   ],
   "source": [
    "for col in df.columns:\n",
    "    col1 = col.replace(' ','')\n",
    "    df = df.rename(columns={col:col1})\n",
    "df.columns"
   ]
  },
  {
   "cell_type": "code",
   "execution_count": 9,
   "id": "11bbc4c4",
   "metadata": {},
   "outputs": [
    {
     "name": "stdout",
     "output_type": "stream",
     "text": [
      "Columns with missing values:\n"
     ]
    },
    {
     "data": {
      "text/plain": [
       "AppName              True\n",
       "AppId               False\n",
       "Category            False\n",
       "Rating               True\n",
       "RatingCount          True\n",
       "Installs             True\n",
       "MinimumInstalls      True\n",
       "MaximumInstalls     False\n",
       "Free                False\n",
       "Price               False\n",
       "Currency             True\n",
       "Size                 True\n",
       "MinimumAndroid       True\n",
       "DeveloperId          True\n",
       "DeveloperWebsite     True\n",
       "DeveloperEmail       True\n",
       "Released             True\n",
       "LastUpdated         False\n",
       "ContentRating       False\n",
       "PrivacyPolicy        True\n",
       "AdSupported         False\n",
       "InAppPurchases      False\n",
       "EditorsChoice       False\n",
       "ScrapedTime         False\n",
       "dtype: bool"
      ]
     },
     "execution_count": 9,
     "metadata": {},
     "output_type": "execute_result"
    }
   ],
   "source": [
    "print(\"Columns with missing values:\")\n",
    "df.isnull().any()"
   ]
  },
  {
   "cell_type": "code",
   "execution_count": 10,
   "id": "6e9bce12",
   "metadata": {},
   "outputs": [
    {
     "name": "stdout",
     "output_type": "stream",
     "text": [
      "Number of rows having null values:\n",
      "1025753 which is 44.35 %\n"
     ]
    }
   ],
   "source": [
    "print('Number of rows having null values:')\n",
    "missing_info = (len(df[df.isnull().any(axis=1)]) / len(df) )*100\n",
    "print(len(df[df.isnull().any(axis=1)]), 'which is', round(missing_info,2), '%')"
   ]
  },
  {
   "cell_type": "code",
   "execution_count": 11,
   "id": "0ca2ce7f",
   "metadata": {},
   "outputs": [
    {
     "data": {
      "text/plain": [
       "AppName                  2\n",
       "AppId                    0\n",
       "Category                 0\n",
       "Rating               22883\n",
       "RatingCount          22883\n",
       "Installs               107\n",
       "MinimumInstalls        107\n",
       "MaximumInstalls          0\n",
       "Free                     0\n",
       "Price                    0\n",
       "Currency               135\n",
       "Size                   196\n",
       "MinimumAndroid        6530\n",
       "DeveloperId             33\n",
       "DeveloperWebsite    760835\n",
       "DeveloperEmail          31\n",
       "Released             71053\n",
       "LastUpdated              0\n",
       "ContentRating            0\n",
       "PrivacyPolicy       420953\n",
       "AdSupported              0\n",
       "InAppPurchases           0\n",
       "EditorsChoice            0\n",
       "ScrapedTime              0\n",
       "dtype: int64"
      ]
     },
     "execution_count": 11,
     "metadata": {},
     "output_type": "execute_result"
    }
   ],
   "source": [
    "df.isnull().sum()"
   ]
  },
  {
   "cell_type": "code",
   "execution_count": 12,
   "id": "8a9e8541",
   "metadata": {},
   "outputs": [
    {
     "data": {
      "text/html": [
       "<div>\n",
       "<style scoped>\n",
       "    .dataframe tbody tr th:only-of-type {\n",
       "        vertical-align: middle;\n",
       "    }\n",
       "\n",
       "    .dataframe tbody tr th {\n",
       "        vertical-align: top;\n",
       "    }\n",
       "\n",
       "    .dataframe thead th {\n",
       "        text-align: right;\n",
       "    }\n",
       "</style>\n",
       "<table border=\"1\" class=\"dataframe\">\n",
       "  <thead>\n",
       "    <tr style=\"text-align: right;\">\n",
       "      <th></th>\n",
       "      <th>Rating</th>\n",
       "      <th>RatingCount</th>\n",
       "      <th>MinimumInstalls</th>\n",
       "      <th>MaximumInstalls</th>\n",
       "      <th>Price</th>\n",
       "    </tr>\n",
       "  </thead>\n",
       "  <tbody>\n",
       "    <tr>\n",
       "      <th>count</th>\n",
       "      <td>2.290061e+06</td>\n",
       "      <td>2.290061e+06</td>\n",
       "      <td>2.312837e+06</td>\n",
       "      <td>2.312944e+06</td>\n",
       "      <td>2.312944e+06</td>\n",
       "    </tr>\n",
       "    <tr>\n",
       "      <th>mean</th>\n",
       "      <td>2.203152e+00</td>\n",
       "      <td>2.864839e+03</td>\n",
       "      <td>1.834452e+05</td>\n",
       "      <td>3.202017e+05</td>\n",
       "      <td>1.034992e-01</td>\n",
       "    </tr>\n",
       "    <tr>\n",
       "      <th>std</th>\n",
       "      <td>2.106223e+00</td>\n",
       "      <td>2.121626e+05</td>\n",
       "      <td>1.513144e+07</td>\n",
       "      <td>2.355495e+07</td>\n",
       "      <td>2.633127e+00</td>\n",
       "    </tr>\n",
       "    <tr>\n",
       "      <th>min</th>\n",
       "      <td>0.000000e+00</td>\n",
       "      <td>0.000000e+00</td>\n",
       "      <td>0.000000e+00</td>\n",
       "      <td>0.000000e+00</td>\n",
       "      <td>0.000000e+00</td>\n",
       "    </tr>\n",
       "    <tr>\n",
       "      <th>25%</th>\n",
       "      <td>0.000000e+00</td>\n",
       "      <td>0.000000e+00</td>\n",
       "      <td>5.000000e+01</td>\n",
       "      <td>8.400000e+01</td>\n",
       "      <td>0.000000e+00</td>\n",
       "    </tr>\n",
       "    <tr>\n",
       "      <th>50%</th>\n",
       "      <td>2.900000e+00</td>\n",
       "      <td>6.000000e+00</td>\n",
       "      <td>5.000000e+02</td>\n",
       "      <td>6.950000e+02</td>\n",
       "      <td>0.000000e+00</td>\n",
       "    </tr>\n",
       "    <tr>\n",
       "      <th>75%</th>\n",
       "      <td>4.300000e+00</td>\n",
       "      <td>4.200000e+01</td>\n",
       "      <td>5.000000e+03</td>\n",
       "      <td>7.354000e+03</td>\n",
       "      <td>0.000000e+00</td>\n",
       "    </tr>\n",
       "    <tr>\n",
       "      <th>max</th>\n",
       "      <td>5.000000e+00</td>\n",
       "      <td>1.385576e+08</td>\n",
       "      <td>1.000000e+10</td>\n",
       "      <td>1.205763e+10</td>\n",
       "      <td>4.000000e+02</td>\n",
       "    </tr>\n",
       "  </tbody>\n",
       "</table>\n",
       "</div>"
      ],
      "text/plain": [
       "             Rating   RatingCount  MinimumInstalls  MaximumInstalls  \\\n",
       "count  2.290061e+06  2.290061e+06     2.312837e+06     2.312944e+06   \n",
       "mean   2.203152e+00  2.864839e+03     1.834452e+05     3.202017e+05   \n",
       "std    2.106223e+00  2.121626e+05     1.513144e+07     2.355495e+07   \n",
       "min    0.000000e+00  0.000000e+00     0.000000e+00     0.000000e+00   \n",
       "25%    0.000000e+00  0.000000e+00     5.000000e+01     8.400000e+01   \n",
       "50%    2.900000e+00  6.000000e+00     5.000000e+02     6.950000e+02   \n",
       "75%    4.300000e+00  4.200000e+01     5.000000e+03     7.354000e+03   \n",
       "max    5.000000e+00  1.385576e+08     1.000000e+10     1.205763e+10   \n",
       "\n",
       "              Price  \n",
       "count  2.312944e+06  \n",
       "mean   1.034992e-01  \n",
       "std    2.633127e+00  \n",
       "min    0.000000e+00  \n",
       "25%    0.000000e+00  \n",
       "50%    0.000000e+00  \n",
       "75%    0.000000e+00  \n",
       "max    4.000000e+02  "
      ]
     },
     "execution_count": 12,
     "metadata": {},
     "output_type": "execute_result"
    }
   ],
   "source": [
    "df.describe()"
   ]
  },
  {
   "cell_type": "markdown",
   "id": "65ad66e5",
   "metadata": {},
   "source": [
    "Looks like all numerical columns are within the sensible range, like rating should be between 0 and 5."
   ]
  },
  {
   "cell_type": "markdown",
   "id": "0affa033",
   "metadata": {},
   "source": [
    "## Processing"
   ]
  },
  {
   "cell_type": "code",
   "execution_count": 13,
   "id": "84b9d857",
   "metadata": {},
   "outputs": [],
   "source": [
    "to_drop = [\n",
    "    'AppId', 'MinimumAndroid', \n",
    "    'DeveloperId', 'DeveloperWebsite', 'DeveloperEmail', 'PrivacyPolicy', \n",
    "    'AdSupported', 'InAppPurchases', 'EditorsChoice'\n",
    "]\n",
    "\n",
    "df.drop(to_drop, axis='columns', inplace=True)"
   ]
  },
  {
   "cell_type": "code",
   "execution_count": 14,
   "id": "07a796c7",
   "metadata": {},
   "outputs": [
    {
     "data": {
      "text/html": [
       "<div>\n",
       "<style scoped>\n",
       "    .dataframe tbody tr th:only-of-type {\n",
       "        vertical-align: middle;\n",
       "    }\n",
       "\n",
       "    .dataframe tbody tr th {\n",
       "        vertical-align: top;\n",
       "    }\n",
       "\n",
       "    .dataframe thead th {\n",
       "        text-align: right;\n",
       "    }\n",
       "</style>\n",
       "<table border=\"1\" class=\"dataframe\">\n",
       "  <thead>\n",
       "    <tr style=\"text-align: right;\">\n",
       "      <th></th>\n",
       "      <th>AppName</th>\n",
       "      <th>Category</th>\n",
       "      <th>Rating</th>\n",
       "      <th>RatingCount</th>\n",
       "      <th>Installs</th>\n",
       "      <th>MinimumInstalls</th>\n",
       "      <th>MaximumInstalls</th>\n",
       "      <th>Free</th>\n",
       "      <th>Price</th>\n",
       "      <th>Currency</th>\n",
       "      <th>Size</th>\n",
       "      <th>Released</th>\n",
       "      <th>LastUpdated</th>\n",
       "      <th>ContentRating</th>\n",
       "      <th>ScrapedTime</th>\n",
       "    </tr>\n",
       "  </thead>\n",
       "  <tbody>\n",
       "    <tr>\n",
       "      <th>0</th>\n",
       "      <td>Gakondo</td>\n",
       "      <td>Adventure</td>\n",
       "      <td>0.0</td>\n",
       "      <td>0.0</td>\n",
       "      <td>10+</td>\n",
       "      <td>10.0</td>\n",
       "      <td>15</td>\n",
       "      <td>True</td>\n",
       "      <td>0.0</td>\n",
       "      <td>USD</td>\n",
       "      <td>10M</td>\n",
       "      <td>Feb 26, 2020</td>\n",
       "      <td>Feb 26, 2020</td>\n",
       "      <td>Everyone</td>\n",
       "      <td>2021-06-15 20:19:35</td>\n",
       "    </tr>\n",
       "    <tr>\n",
       "      <th>1</th>\n",
       "      <td>Ampere Battery Info</td>\n",
       "      <td>Tools</td>\n",
       "      <td>4.4</td>\n",
       "      <td>64.0</td>\n",
       "      <td>5,000+</td>\n",
       "      <td>5000.0</td>\n",
       "      <td>7662</td>\n",
       "      <td>True</td>\n",
       "      <td>0.0</td>\n",
       "      <td>USD</td>\n",
       "      <td>2.9M</td>\n",
       "      <td>May 21, 2020</td>\n",
       "      <td>May 06, 2021</td>\n",
       "      <td>Everyone</td>\n",
       "      <td>2021-06-15 20:19:35</td>\n",
       "    </tr>\n",
       "    <tr>\n",
       "      <th>2</th>\n",
       "      <td>Vibook</td>\n",
       "      <td>Productivity</td>\n",
       "      <td>0.0</td>\n",
       "      <td>0.0</td>\n",
       "      <td>50+</td>\n",
       "      <td>50.0</td>\n",
       "      <td>58</td>\n",
       "      <td>True</td>\n",
       "      <td>0.0</td>\n",
       "      <td>USD</td>\n",
       "      <td>3.7M</td>\n",
       "      <td>Aug 9, 2019</td>\n",
       "      <td>Aug 19, 2019</td>\n",
       "      <td>Everyone</td>\n",
       "      <td>2021-06-15 20:19:35</td>\n",
       "    </tr>\n",
       "    <tr>\n",
       "      <th>3</th>\n",
       "      <td>Smart City Trichy Public Service Vehicles 17UC...</td>\n",
       "      <td>Communication</td>\n",
       "      <td>5.0</td>\n",
       "      <td>5.0</td>\n",
       "      <td>10+</td>\n",
       "      <td>10.0</td>\n",
       "      <td>19</td>\n",
       "      <td>True</td>\n",
       "      <td>0.0</td>\n",
       "      <td>USD</td>\n",
       "      <td>1.8M</td>\n",
       "      <td>Sep 10, 2018</td>\n",
       "      <td>Oct 13, 2018</td>\n",
       "      <td>Everyone</td>\n",
       "      <td>2021-06-15 20:19:35</td>\n",
       "    </tr>\n",
       "    <tr>\n",
       "      <th>4</th>\n",
       "      <td>GROW.me</td>\n",
       "      <td>Tools</td>\n",
       "      <td>0.0</td>\n",
       "      <td>0.0</td>\n",
       "      <td>100+</td>\n",
       "      <td>100.0</td>\n",
       "      <td>478</td>\n",
       "      <td>True</td>\n",
       "      <td>0.0</td>\n",
       "      <td>USD</td>\n",
       "      <td>6.2M</td>\n",
       "      <td>Feb 21, 2020</td>\n",
       "      <td>Nov 12, 2018</td>\n",
       "      <td>Everyone</td>\n",
       "      <td>2021-06-15 20:19:35</td>\n",
       "    </tr>\n",
       "  </tbody>\n",
       "</table>\n",
       "</div>"
      ],
      "text/plain": [
       "                                             AppName       Category  Rating  \\\n",
       "0                                            Gakondo      Adventure     0.0   \n",
       "1                                Ampere Battery Info          Tools     4.4   \n",
       "2                                             Vibook   Productivity     0.0   \n",
       "3  Smart City Trichy Public Service Vehicles 17UC...  Communication     5.0   \n",
       "4                                            GROW.me          Tools     0.0   \n",
       "\n",
       "   RatingCount Installs  MinimumInstalls  MaximumInstalls  Free  Price  \\\n",
       "0          0.0      10+             10.0               15  True    0.0   \n",
       "1         64.0   5,000+           5000.0             7662  True    0.0   \n",
       "2          0.0      50+             50.0               58  True    0.0   \n",
       "3          5.0      10+             10.0               19  True    0.0   \n",
       "4          0.0     100+            100.0              478  True    0.0   \n",
       "\n",
       "  Currency  Size      Released   LastUpdated ContentRating  \\\n",
       "0      USD   10M  Feb 26, 2020  Feb 26, 2020      Everyone   \n",
       "1      USD  2.9M  May 21, 2020  May 06, 2021      Everyone   \n",
       "2      USD  3.7M   Aug 9, 2019  Aug 19, 2019      Everyone   \n",
       "3      USD  1.8M  Sep 10, 2018  Oct 13, 2018      Everyone   \n",
       "4      USD  6.2M  Feb 21, 2020  Nov 12, 2018      Everyone   \n",
       "\n",
       "           ScrapedTime  \n",
       "0  2021-06-15 20:19:35  \n",
       "1  2021-06-15 20:19:35  \n",
       "2  2021-06-15 20:19:35  \n",
       "3  2021-06-15 20:19:35  \n",
       "4  2021-06-15 20:19:35  "
      ]
     },
     "execution_count": 14,
     "metadata": {},
     "output_type": "execute_result"
    }
   ],
   "source": [
    "df.head()"
   ]
  },
  {
   "cell_type": "code",
   "execution_count": 15,
   "id": "91a0f66c",
   "metadata": {
    "scrolled": false
   },
   "outputs": [
    {
     "data": {
      "text/plain": [
       "<AxesSubplot:>"
      ]
     },
     "execution_count": 15,
     "metadata": {},
     "output_type": "execute_result"
    },
    {
     "data": {
      "image/png": "[encoded data removed]",
      "text/plain": [
       "<Figure size 432x288 with 1 Axes>"
      ]
     },
     "metadata": {
      "needs_background": "light"
     },
     "output_type": "display_data"
    }
   ],
   "source": [
    "sns.heatmap(df.isnull(), yticklabels = False,cbar = False, cmap = 'viridis')"
   ]
  },
  {
   "cell_type": "markdown",
   "id": "fb0773f7",
   "metadata": {},
   "source": [
    "##### Cleaning columns"
   ]
  },
  {
   "cell_type": "code",
   "execution_count": 16,
   "id": "f9c26d85",
   "metadata": {},
   "outputs": [
    {
     "data": {
      "text/plain": [
       "Education                  241090\n",
       "Music & Audio              154906\n",
       "Tools                      143988\n",
       "Business                   143771\n",
       "Entertainment              138276\n",
       "Lifestyle                  118331\n",
       "Books & Reference          116728\n",
       "Personalization             89210\n",
       "Health & Fitness            83510\n",
       "Productivity                79698\n",
       "Shopping                    75256\n",
       "Food & Drink                73927\n",
       "Travel & Local              67288\n",
       "Finance                     65466\n",
       "Arcade                      53792\n",
       "Puzzle                      51168\n",
       "Casual                      50813\n",
       "Communication               48167\n",
       "Sports                      47483\n",
       "Social                      44734\n",
       "News & Magazines            42807\n",
       "Photography                 35552\n",
       "Medical                     32065\n",
       "Action                      27555\n",
       "Maps & Navigation           26722\n",
       "Simulation                  23282\n",
       "Adventure                   23203\n",
       "Educational                 21308\n",
       "Art & Design                18539\n",
       "Auto & Vehicles             18280\n",
       "House & Home                14369\n",
       "Video Players & Editors     14015\n",
       "Events                      12841\n",
       "Trivia                      11795\n",
       "Beauty                      11772\n",
       "Board                       10588\n",
       "Racing                      10362\n",
       "Role Playing                10034\n",
       "Word                         8630\n",
       "Strategy                     8526\n",
       "Card                         8179\n",
       "Weather                      7246\n",
       "Dating                       6524\n",
       "Libraries & Demo             5198\n",
       "Casino                       5076\n",
       "Music                        4202\n",
       "Parenting                    3810\n",
       "Comics                       2862\n",
       "Name: Category, dtype: int64"
      ]
     },
     "execution_count": 16,
     "metadata": {},
     "output_type": "execute_result"
    }
   ],
   "source": [
    "df['Category'].value_counts() "
   ]
  },
  {
   "cell_type": "code",
   "execution_count": 17,
   "id": "b8a9d66d",
   "metadata": {},
   "outputs": [
    {
     "data": {
      "text/plain": [
       "48"
      ]
     },
     "execution_count": 17,
     "metadata": {},
     "output_type": "execute_result"
    }
   ],
   "source": [
    "df['Category'].nunique()"
   ]
  },
  {
   "cell_type": "code",
   "execution_count": 18,
   "id": "5cfa9b5c",
   "metadata": {},
   "outputs": [],
   "source": [
    "# Merge 'Music' and 'Music & Audio' into 'Music'\n",
    "df['Category'] = df['Category'].str.replace('Music & Audio', 'Music')"
   ]
  },
  {
   "cell_type": "code",
   "execution_count": 19,
   "id": "6d9484ea",
   "metadata": {},
   "outputs": [],
   "source": [
    "# Merge 'Education' and 'Educational' into 'Education'\n",
    "df['Category'] = df['Category'].str.replace('Educational', 'Education')"
   ]
  },
  {
   "cell_type": "code",
   "execution_count": 20,
   "id": "6eef2ec4",
   "metadata": {},
   "outputs": [
    {
     "data": {
      "text/plain": [
       "46"
      ]
     },
     "execution_count": 20,
     "metadata": {},
     "output_type": "execute_result"
    }
   ],
   "source": [
    "df['Category'].nunique()"
   ]
  },
  {
   "cell_type": "code",
   "execution_count": 21,
   "id": "c5dd0e2c",
   "metadata": {},
   "outputs": [
    {
     "data": {
      "text/plain": [
       "Education                  262398\n",
       "Music                      159108\n",
       "Tools                      143988\n",
       "Business                   143771\n",
       "Entertainment              138276\n",
       "Lifestyle                  118331\n",
       "Books & Reference          116728\n",
       "Personalization             89210\n",
       "Health & Fitness            83510\n",
       "Productivity                79698\n",
       "Shopping                    75256\n",
       "Food & Drink                73927\n",
       "Travel & Local              67288\n",
       "Finance                     65466\n",
       "Arcade                      53792\n",
       "Puzzle                      51168\n",
       "Casual                      50813\n",
       "Communication               48167\n",
       "Sports                      47483\n",
       "Social                      44734\n",
       "News & Magazines            42807\n",
       "Photography                 35552\n",
       "Medical                     32065\n",
       "Action                      27555\n",
       "Maps & Navigation           26722\n",
       "Simulation                  23282\n",
       "Adventure                   23203\n",
       "Art & Design                18539\n",
       "Auto & Vehicles             18280\n",
       "House & Home                14369\n",
       "Video Players & Editors     14015\n",
       "Events                      12841\n",
       "Trivia                      11795\n",
       "Beauty                      11772\n",
       "Board                       10588\n",
       "Racing                      10362\n",
       "Role Playing                10034\n",
       "Word                         8630\n",
       "Strategy                     8526\n",
       "Card                         8179\n",
       "Weather                      7246\n",
       "Dating                       6524\n",
       "Libraries & Demo             5198\n",
       "Casino                       5076\n",
       "Parenting                    3810\n",
       "Comics                       2862\n",
       "Name: Category, dtype: int64"
      ]
     },
     "execution_count": 21,
     "metadata": {},
     "output_type": "execute_result"
    }
   ],
   "source": [
    "df['Category'].value_counts()"
   ]
  },
  {
   "cell_type": "code",
   "execution_count": 22,
   "id": "2affaec9",
   "metadata": {},
   "outputs": [
    {
     "data": {
      "text/plain": [
       "Everyone           2022089\n",
       "Teen                196375\n",
       "Mature 17+           60289\n",
       "Everyone 10+         33901\n",
       "Unrated                154\n",
       "Adults only 18+        136\n",
       "Name: ContentRating, dtype: int64"
      ]
     },
     "execution_count": 22,
     "metadata": {},
     "output_type": "execute_result"
    }
   ],
   "source": [
    "## Cleaning Content Rating\n",
    "df[\"ContentRating\"].value_counts()"
   ]
  },
  {
   "cell_type": "code",
   "execution_count": 23,
   "id": "e55432b5",
   "metadata": {},
   "outputs": [],
   "source": [
    "df[\"ContentRating\"]=df[\"ContentRating\"].replace(\"Unrated\",\"Everyone\")\n",
    "df[\"ContentRating\"]=df[\"ContentRating\"].replace(\"Everyone 10+\",\"Everyone\")\n",
    "df[\"ContentRating\"]=df[\"ContentRating\"].replace(\"Adults only 18+\",\"Adults\")\n",
    "df[\"ContentRating\"]=df[\"ContentRating\"].replace(\"Mature 17+\",\"Mature\") "
   ]
  },
  {
   "cell_type": "code",
   "execution_count": 24,
   "id": "58315510",
   "metadata": {
    "scrolled": true
   },
   "outputs": [
    {
     "data": {
      "text/plain": [
       "Everyone    2056144\n",
       "Teen         196375\n",
       "Mature        60289\n",
       "Adults          136\n",
       "Name: ContentRating, dtype: int64"
      ]
     },
     "execution_count": 24,
     "metadata": {},
     "output_type": "execute_result"
    }
   ],
   "source": [
    "df[\"ContentRating\"].value_counts()"
   ]
  },
  {
   "cell_type": "code",
   "execution_count": 25,
   "id": "40056f39",
   "metadata": {},
   "outputs": [
    {
     "name": "stderr",
     "output_type": "stream",
     "text": [
      "C:\\Users\\hp\\AppData\\Local\\Temp\\ipykernel_11112\\2987689844.py:3: FutureWarning: The default value of regex will change from True to False in a future version. In addition, single character regular expressions will *not* be treated as literal strings when regex=True.\n",
      "  df.Installs = df.Installs.str.replace('+','')\n"
     ]
    }
   ],
   "source": [
    "## Cleaning Install Column\n",
    "df.Installs = df.Installs.str.replace(',','')\n",
    "df.Installs = df.Installs.str.replace('+','')\n",
    "df.Installs = df.Installs.str.replace('Free','0')\n",
    "df['Installs'] = pd.to_numeric(df['Installs'])"
   ]
  },
  {
   "cell_type": "code",
   "execution_count": 26,
   "id": "127e29fc",
   "metadata": {},
   "outputs": [
    {
     "data": {
      "text/html": [
       "<div>\n",
       "<style scoped>\n",
       "    .dataframe tbody tr th:only-of-type {\n",
       "        vertical-align: middle;\n",
       "    }\n",
       "\n",
       "    .dataframe tbody tr th {\n",
       "        vertical-align: top;\n",
       "    }\n",
       "\n",
       "    .dataframe thead th {\n",
       "        text-align: right;\n",
       "    }\n",
       "</style>\n",
       "<table border=\"1\" class=\"dataframe\">\n",
       "  <thead>\n",
       "    <tr style=\"text-align: right;\">\n",
       "      <th></th>\n",
       "      <th>Rating</th>\n",
       "      <th>RatingCount</th>\n",
       "      <th>Installs</th>\n",
       "      <th>MinimumInstalls</th>\n",
       "      <th>MaximumInstalls</th>\n",
       "      <th>Free</th>\n",
       "      <th>Price</th>\n",
       "    </tr>\n",
       "  </thead>\n",
       "  <tbody>\n",
       "    <tr>\n",
       "      <th>Rating</th>\n",
       "      <td>1.000000</td>\n",
       "      <td>0.013038</td>\n",
       "      <td>0.011214</td>\n",
       "      <td>0.011214</td>\n",
       "      <td>0.012615</td>\n",
       "      <td>-0.010756</td>\n",
       "      <td>-0.003674</td>\n",
       "    </tr>\n",
       "    <tr>\n",
       "      <th>RatingCount</th>\n",
       "      <td>0.013038</td>\n",
       "      <td>1.000000</td>\n",
       "      <td>0.545281</td>\n",
       "      <td>0.545281</td>\n",
       "      <td>0.547571</td>\n",
       "      <td>0.001410</td>\n",
       "      <td>-0.000411</td>\n",
       "    </tr>\n",
       "    <tr>\n",
       "      <th>Installs</th>\n",
       "      <td>0.011214</td>\n",
       "      <td>0.545281</td>\n",
       "      <td>1.000000</td>\n",
       "      <td>1.000000</td>\n",
       "      <td>0.954037</td>\n",
       "      <td>0.001623</td>\n",
       "      <td>-0.000461</td>\n",
       "    </tr>\n",
       "    <tr>\n",
       "      <th>MinimumInstalls</th>\n",
       "      <td>0.011214</td>\n",
       "      <td>0.545281</td>\n",
       "      <td>1.000000</td>\n",
       "      <td>1.000000</td>\n",
       "      <td>0.954037</td>\n",
       "      <td>0.001623</td>\n",
       "      <td>-0.000461</td>\n",
       "    </tr>\n",
       "    <tr>\n",
       "      <th>MaximumInstalls</th>\n",
       "      <td>0.012615</td>\n",
       "      <td>0.547571</td>\n",
       "      <td>0.954037</td>\n",
       "      <td>0.954037</td>\n",
       "      <td>1.000000</td>\n",
       "      <td>0.001815</td>\n",
       "      <td>-0.000515</td>\n",
       "    </tr>\n",
       "    <tr>\n",
       "      <th>Free</th>\n",
       "      <td>-0.010756</td>\n",
       "      <td>0.001410</td>\n",
       "      <td>0.001623</td>\n",
       "      <td>0.001623</td>\n",
       "      <td>0.001815</td>\n",
       "      <td>1.000000</td>\n",
       "      <td>-0.278831</td>\n",
       "    </tr>\n",
       "    <tr>\n",
       "      <th>Price</th>\n",
       "      <td>-0.003674</td>\n",
       "      <td>-0.000411</td>\n",
       "      <td>-0.000461</td>\n",
       "      <td>-0.000461</td>\n",
       "      <td>-0.000515</td>\n",
       "      <td>-0.278831</td>\n",
       "      <td>1.000000</td>\n",
       "    </tr>\n",
       "  </tbody>\n",
       "</table>\n",
       "</div>"
      ],
      "text/plain": [
       "                   Rating  RatingCount  Installs  MinimumInstalls  \\\n",
       "Rating           1.000000     0.013038  0.011214         0.011214   \n",
       "RatingCount      0.013038     1.000000  0.545281         0.545281   \n",
       "Installs         0.011214     0.545281  1.000000         1.000000   \n",
       "MinimumInstalls  0.011214     0.545281  1.000000         1.000000   \n",
       "MaximumInstalls  0.012615     0.547571  0.954037         0.954037   \n",
       "Free            -0.010756     0.001410  0.001623         0.001623   \n",
       "Price           -0.003674    -0.000411 -0.000461        -0.000461   \n",
       "\n",
       "                 MaximumInstalls      Free     Price  \n",
       "Rating                  0.012615 -0.010756 -0.003674  \n",
       "RatingCount             0.547571  0.001410 -0.000411  \n",
       "Installs                0.954037  0.001623 -0.000461  \n",
       "MinimumInstalls         0.954037  0.001623 -0.000461  \n",
       "MaximumInstalls         1.000000  0.001815 -0.000515  \n",
       "Free                    0.001815  1.000000 -0.278831  \n",
       "Price                  -0.000515 -0.278831  1.000000  "
      ]
     },
     "execution_count": 26,
     "metadata": {},
     "output_type": "execute_result"
    }
   ],
   "source": [
    "df.corr()   "
   ]
  },
  {
   "cell_type": "markdown",
   "id": "c9f9bf07",
   "metadata": {},
   "source": [
    " Minimum installs and installs are same and we can drop one column"
   ]
  },
  {
   "cell_type": "code",
   "execution_count": 27,
   "id": "670e0e6d",
   "metadata": {},
   "outputs": [],
   "source": [
    "df.drop(['Installs'], axis=1, inplace=True)"
   ]
  },
  {
   "cell_type": "code",
   "execution_count": 28,
   "id": "1fa52e51",
   "metadata": {},
   "outputs": [
    {
     "data": {
      "text/plain": [
       "Free    2268011\n",
       "Low       41969\n",
       "Mid        2092\n",
       "High        872\n",
       "Name: PriceRange, dtype: int64"
      ]
     },
     "execution_count": 28,
     "metadata": {},
     "output_type": "execute_result"
    }
   ],
   "source": [
    "## Cleaning Price Column and creating price range\n",
    "df['PriceRange'] = pd.cut(df['Price'],bins=[0,0.001,9.99,29.99,410],labels=['Free','Low','Mid','High'],include_lowest=True)\n",
    "df['PriceRange'].value_counts()"
   ]
  },
  {
   "cell_type": "code",
   "execution_count": 29,
   "id": "66a6bc9e",
   "metadata": {
    "scrolled": true
   },
   "outputs": [],
   "source": [
    "## Cleaning free column\n",
    "df['Type'] = np.where(df['Free'] == True,'Free','Paid')\n",
    "df.drop(['Free'],inplace=True,axis=1)"
   ]
  },
  {
   "cell_type": "code",
   "execution_count": 30,
   "id": "9e482c2b",
   "metadata": {},
   "outputs": [
    {
     "data": {
      "text/html": [
       "<div>\n",
       "<style scoped>\n",
       "    .dataframe tbody tr th:only-of-type {\n",
       "        vertical-align: middle;\n",
       "    }\n",
       "\n",
       "    .dataframe tbody tr th {\n",
       "        vertical-align: top;\n",
       "    }\n",
       "\n",
       "    .dataframe thead th {\n",
       "        text-align: right;\n",
       "    }\n",
       "</style>\n",
       "<table border=\"1\" class=\"dataframe\">\n",
       "  <thead>\n",
       "    <tr style=\"text-align: right;\">\n",
       "      <th></th>\n",
       "      <th>AppName</th>\n",
       "      <th>Category</th>\n",
       "      <th>Rating</th>\n",
       "      <th>RatingCount</th>\n",
       "      <th>MinimumInstalls</th>\n",
       "      <th>MaximumInstalls</th>\n",
       "      <th>Price</th>\n",
       "      <th>Currency</th>\n",
       "      <th>Size</th>\n",
       "      <th>Released</th>\n",
       "      <th>LastUpdated</th>\n",
       "      <th>ContentRating</th>\n",
       "      <th>ScrapedTime</th>\n",
       "      <th>PriceRange</th>\n",
       "      <th>Type</th>\n",
       "    </tr>\n",
       "  </thead>\n",
       "  <tbody>\n",
       "    <tr>\n",
       "      <th>0</th>\n",
       "      <td>Gakondo</td>\n",
       "      <td>Adventure</td>\n",
       "      <td>0.0</td>\n",
       "      <td>0.0</td>\n",
       "      <td>10.0</td>\n",
       "      <td>15</td>\n",
       "      <td>0.0</td>\n",
       "      <td>USD</td>\n",
       "      <td>10M</td>\n",
       "      <td>Feb 26, 2020</td>\n",
       "      <td>Feb 26, 2020</td>\n",
       "      <td>Everyone</td>\n",
       "      <td>2021-06-15 20:19:35</td>\n",
       "      <td>Free</td>\n",
       "      <td>Free</td>\n",
       "    </tr>\n",
       "    <tr>\n",
       "      <th>1</th>\n",
       "      <td>Ampere Battery Info</td>\n",
       "      <td>Tools</td>\n",
       "      <td>4.4</td>\n",
       "      <td>64.0</td>\n",
       "      <td>5000.0</td>\n",
       "      <td>7662</td>\n",
       "      <td>0.0</td>\n",
       "      <td>USD</td>\n",
       "      <td>2.9M</td>\n",
       "      <td>May 21, 2020</td>\n",
       "      <td>May 06, 2021</td>\n",
       "      <td>Everyone</td>\n",
       "      <td>2021-06-15 20:19:35</td>\n",
       "      <td>Free</td>\n",
       "      <td>Free</td>\n",
       "    </tr>\n",
       "    <tr>\n",
       "      <th>2</th>\n",
       "      <td>Vibook</td>\n",
       "      <td>Productivity</td>\n",
       "      <td>0.0</td>\n",
       "      <td>0.0</td>\n",
       "      <td>50.0</td>\n",
       "      <td>58</td>\n",
       "      <td>0.0</td>\n",
       "      <td>USD</td>\n",
       "      <td>3.7M</td>\n",
       "      <td>Aug 9, 2019</td>\n",
       "      <td>Aug 19, 2019</td>\n",
       "      <td>Everyone</td>\n",
       "      <td>2021-06-15 20:19:35</td>\n",
       "      <td>Free</td>\n",
       "      <td>Free</td>\n",
       "    </tr>\n",
       "    <tr>\n",
       "      <th>3</th>\n",
       "      <td>Smart City Trichy Public Service Vehicles 17UC...</td>\n",
       "      <td>Communication</td>\n",
       "      <td>5.0</td>\n",
       "      <td>5.0</td>\n",
       "      <td>10.0</td>\n",
       "      <td>19</td>\n",
       "      <td>0.0</td>\n",
       "      <td>USD</td>\n",
       "      <td>1.8M</td>\n",
       "      <td>Sep 10, 2018</td>\n",
       "      <td>Oct 13, 2018</td>\n",
       "      <td>Everyone</td>\n",
       "      <td>2021-06-15 20:19:35</td>\n",
       "      <td>Free</td>\n",
       "      <td>Free</td>\n",
       "    </tr>\n",
       "    <tr>\n",
       "      <th>4</th>\n",
       "      <td>GROW.me</td>\n",
       "      <td>Tools</td>\n",
       "      <td>0.0</td>\n",
       "      <td>0.0</td>\n",
       "      <td>100.0</td>\n",
       "      <td>478</td>\n",
       "      <td>0.0</td>\n",
       "      <td>USD</td>\n",
       "      <td>6.2M</td>\n",
       "      <td>Feb 21, 2020</td>\n",
       "      <td>Nov 12, 2018</td>\n",
       "      <td>Everyone</td>\n",
       "      <td>2021-06-15 20:19:35</td>\n",
       "      <td>Free</td>\n",
       "      <td>Free</td>\n",
       "    </tr>\n",
       "  </tbody>\n",
       "</table>\n",
       "</div>"
      ],
      "text/plain": [
       "                                             AppName       Category  Rating  \\\n",
       "0                                            Gakondo      Adventure     0.0   \n",
       "1                                Ampere Battery Info          Tools     4.4   \n",
       "2                                             Vibook   Productivity     0.0   \n",
       "3  Smart City Trichy Public Service Vehicles 17UC...  Communication     5.0   \n",
       "4                                            GROW.me          Tools     0.0   \n",
       "\n",
       "   RatingCount  MinimumInstalls  MaximumInstalls  Price Currency  Size  \\\n",
       "0          0.0             10.0               15    0.0      USD   10M   \n",
       "1         64.0           5000.0             7662    0.0      USD  2.9M   \n",
       "2          0.0             50.0               58    0.0      USD  3.7M   \n",
       "3          5.0             10.0               19    0.0      USD  1.8M   \n",
       "4          0.0            100.0              478    0.0      USD  6.2M   \n",
       "\n",
       "       Released   LastUpdated ContentRating          ScrapedTime PriceRange  \\\n",
       "0  Feb 26, 2020  Feb 26, 2020      Everyone  2021-06-15 20:19:35       Free   \n",
       "1  May 21, 2020  May 06, 2021      Everyone  2021-06-15 20:19:35       Free   \n",
       "2   Aug 9, 2019  Aug 19, 2019      Everyone  2021-06-15 20:19:35       Free   \n",
       "3  Sep 10, 2018  Oct 13, 2018      Everyone  2021-06-15 20:19:35       Free   \n",
       "4  Feb 21, 2020  Nov 12, 2018      Everyone  2021-06-15 20:19:35       Free   \n",
       "\n",
       "   Type  \n",
       "0  Free  \n",
       "1  Free  \n",
       "2  Free  \n",
       "3  Free  \n",
       "4  Free  "
      ]
     },
     "execution_count": 30,
     "metadata": {},
     "output_type": "execute_result"
    }
   ],
   "source": [
    "df.head()"
   ]
  },
  {
   "cell_type": "code",
   "execution_count": 31,
   "id": "04555aed",
   "metadata": {},
   "outputs": [
    {
     "data": {
      "text/plain": [
       "Free    2267876\n",
       "Paid      45068\n",
       "Name: Type, dtype: int64"
      ]
     },
     "execution_count": 31,
     "metadata": {},
     "output_type": "execute_result"
    }
   ],
   "source": [
    "df[\"Type\"].value_counts()"
   ]
  },
  {
   "cell_type": "code",
   "execution_count": 32,
   "id": "86ba6ee1",
   "metadata": {},
   "outputs": [
    {
     "data": {
      "text/plain": [
       "138557570.0"
      ]
     },
     "execution_count": 32,
     "metadata": {},
     "output_type": "execute_result"
    }
   ],
   "source": [
    "max(df['RatingCount'])"
   ]
  },
  {
   "cell_type": "code",
   "execution_count": 33,
   "id": "1857bf95",
   "metadata": {},
   "outputs": [
    {
     "data": {
      "text/plain": [
       "Less than 10K           1192855\n",
       "NoRatingProvided        1082645\n",
       "Between 10K and 500K      35779\n",
       "More than 500K             1665\n",
       "Name: RatingType, dtype: int64"
      ]
     },
     "execution_count": 33,
     "metadata": {},
     "output_type": "execute_result"
    }
   ],
   "source": [
    "## Cleaning Rating Count\n",
    "df['RatingType'] = 'NoRatingProvided'\n",
    "df.loc[(df['RatingCount'] > 0) & (df['RatingCount'] <= 10000.0),'RatingType'] = 'Less than 10K'\n",
    "df.loc[(df['RatingCount'] > 10000) & (df['RatingCount'] <= 500000.0),'RatingType'] = 'Between 10K and 500K'\n",
    "df.loc[(df['RatingCount'] > 500000) & (df['RatingCount'] <= 138557570.0),'RatingType'] = 'More than 500K'\n",
    "df.RatingType.value_counts()"
   ]
  },
  {
   "cell_type": "code",
   "execution_count": 34,
   "id": "6faff839",
   "metadata": {},
   "outputs": [
    {
     "name": "stdout",
     "output_type": "stream",
     "text": [
      "<class 'pandas.core.frame.DataFrame'>\n",
      "RangeIndex: 2312944 entries, 0 to 2312943\n",
      "Data columns (total 16 columns):\n",
      " #   Column           Dtype   \n",
      "---  ------           -----   \n",
      " 0   AppName          object  \n",
      " 1   Category         object  \n",
      " 2   Rating           float64 \n",
      " 3   RatingCount      float64 \n",
      " 4   MinimumInstalls  float64 \n",
      " 5   MaximumInstalls  int64   \n",
      " 6   Price            float64 \n",
      " 7   Currency         object  \n",
      " 8   Size             object  \n",
      " 9   Released         object  \n",
      " 10  LastUpdated      object  \n",
      " 11  ContentRating    object  \n",
      " 12  ScrapedTime      object  \n",
      " 13  PriceRange       category\n",
      " 14  Type             object  \n",
      " 15  RatingType       object  \n",
      "dtypes: category(1), float64(4), int64(1), object(10)\n",
      "memory usage: 266.9+ MB\n"
     ]
    }
   ],
   "source": [
    "df.info()"
   ]
  },
  {
   "cell_type": "code",
   "execution_count": 35,
   "id": "1d10dd31",
   "metadata": {},
   "outputs": [
    {
     "data": {
      "text/html": [
       "<div>\n",
       "<style scoped>\n",
       "    .dataframe tbody tr th:only-of-type {\n",
       "        vertical-align: middle;\n",
       "    }\n",
       "\n",
       "    .dataframe tbody tr th {\n",
       "        vertical-align: top;\n",
       "    }\n",
       "\n",
       "    .dataframe thead th {\n",
       "        text-align: right;\n",
       "    }\n",
       "</style>\n",
       "<table border=\"1\" class=\"dataframe\">\n",
       "  <thead>\n",
       "    <tr style=\"text-align: right;\">\n",
       "      <th></th>\n",
       "      <th>AppName</th>\n",
       "      <th>Category</th>\n",
       "      <th>Rating</th>\n",
       "      <th>RatingCount</th>\n",
       "      <th>MinimumInstalls</th>\n",
       "      <th>MaximumInstalls</th>\n",
       "      <th>Price</th>\n",
       "      <th>Currency</th>\n",
       "      <th>Size</th>\n",
       "      <th>Released</th>\n",
       "      <th>LastUpdated</th>\n",
       "      <th>ContentRating</th>\n",
       "      <th>ScrapedTime</th>\n",
       "      <th>PriceRange</th>\n",
       "      <th>Type</th>\n",
       "      <th>RatingType</th>\n",
       "    </tr>\n",
       "  </thead>\n",
       "  <tbody>\n",
       "    <tr>\n",
       "      <th>0</th>\n",
       "      <td>Gakondo</td>\n",
       "      <td>Adventure</td>\n",
       "      <td>0.0</td>\n",
       "      <td>0.0</td>\n",
       "      <td>10.0</td>\n",
       "      <td>15</td>\n",
       "      <td>0.0</td>\n",
       "      <td>USD</td>\n",
       "      <td>10M</td>\n",
       "      <td>Feb 26, 2020</td>\n",
       "      <td>Feb 26, 2020</td>\n",
       "      <td>Everyone</td>\n",
       "      <td>2021-06-15 20:19:35</td>\n",
       "      <td>Free</td>\n",
       "      <td>Free</td>\n",
       "      <td>NoRatingProvided</td>\n",
       "    </tr>\n",
       "    <tr>\n",
       "      <th>1</th>\n",
       "      <td>Ampere Battery Info</td>\n",
       "      <td>Tools</td>\n",
       "      <td>4.4</td>\n",
       "      <td>64.0</td>\n",
       "      <td>5000.0</td>\n",
       "      <td>7662</td>\n",
       "      <td>0.0</td>\n",
       "      <td>USD</td>\n",
       "      <td>2.9M</td>\n",
       "      <td>May 21, 2020</td>\n",
       "      <td>May 06, 2021</td>\n",
       "      <td>Everyone</td>\n",
       "      <td>2021-06-15 20:19:35</td>\n",
       "      <td>Free</td>\n",
       "      <td>Free</td>\n",
       "      <td>Less than 10K</td>\n",
       "    </tr>\n",
       "    <tr>\n",
       "      <th>2</th>\n",
       "      <td>Vibook</td>\n",
       "      <td>Productivity</td>\n",
       "      <td>0.0</td>\n",
       "      <td>0.0</td>\n",
       "      <td>50.0</td>\n",
       "      <td>58</td>\n",
       "      <td>0.0</td>\n",
       "      <td>USD</td>\n",
       "      <td>3.7M</td>\n",
       "      <td>Aug 9, 2019</td>\n",
       "      <td>Aug 19, 2019</td>\n",
       "      <td>Everyone</td>\n",
       "      <td>2021-06-15 20:19:35</td>\n",
       "      <td>Free</td>\n",
       "      <td>Free</td>\n",
       "      <td>NoRatingProvided</td>\n",
       "    </tr>\n",
       "    <tr>\n",
       "      <th>3</th>\n",
       "      <td>Smart City Trichy Public Service Vehicles 17UC...</td>\n",
       "      <td>Communication</td>\n",
       "      <td>5.0</td>\n",
       "      <td>5.0</td>\n",
       "      <td>10.0</td>\n",
       "      <td>19</td>\n",
       "      <td>0.0</td>\n",
       "      <td>USD</td>\n",
       "      <td>1.8M</td>\n",
       "      <td>Sep 10, 2018</td>\n",
       "      <td>Oct 13, 2018</td>\n",
       "      <td>Everyone</td>\n",
       "      <td>2021-06-15 20:19:35</td>\n",
       "      <td>Free</td>\n",
       "      <td>Free</td>\n",
       "      <td>Less than 10K</td>\n",
       "    </tr>\n",
       "    <tr>\n",
       "      <th>4</th>\n",
       "      <td>GROW.me</td>\n",
       "      <td>Tools</td>\n",
       "      <td>0.0</td>\n",
       "      <td>0.0</td>\n",
       "      <td>100.0</td>\n",
       "      <td>478</td>\n",
       "      <td>0.0</td>\n",
       "      <td>USD</td>\n",
       "      <td>6.2M</td>\n",
       "      <td>Feb 21, 2020</td>\n",
       "      <td>Nov 12, 2018</td>\n",
       "      <td>Everyone</td>\n",
       "      <td>2021-06-15 20:19:35</td>\n",
       "      <td>Free</td>\n",
       "      <td>Free</td>\n",
       "      <td>NoRatingProvided</td>\n",
       "    </tr>\n",
       "    <tr>\n",
       "      <th>5</th>\n",
       "      <td>IMOCCI</td>\n",
       "      <td>Social</td>\n",
       "      <td>0.0</td>\n",
       "      <td>0.0</td>\n",
       "      <td>50.0</td>\n",
       "      <td>89</td>\n",
       "      <td>0.0</td>\n",
       "      <td>USD</td>\n",
       "      <td>46M</td>\n",
       "      <td>Dec 24, 2018</td>\n",
       "      <td>Dec 20, 2019</td>\n",
       "      <td>Teen</td>\n",
       "      <td>2021-06-15 20:19:35</td>\n",
       "      <td>Free</td>\n",
       "      <td>Free</td>\n",
       "      <td>NoRatingProvided</td>\n",
       "    </tr>\n",
       "    <tr>\n",
       "      <th>6</th>\n",
       "      <td>unlimited 4G data prank free app</td>\n",
       "      <td>Libraries &amp; Demo</td>\n",
       "      <td>4.5</td>\n",
       "      <td>12.0</td>\n",
       "      <td>1000.0</td>\n",
       "      <td>2567</td>\n",
       "      <td>0.0</td>\n",
       "      <td>USD</td>\n",
       "      <td>2.5M</td>\n",
       "      <td>Sep 23, 2019</td>\n",
       "      <td>Sep 27, 2019</td>\n",
       "      <td>Everyone</td>\n",
       "      <td>2021-06-15 20:19:35</td>\n",
       "      <td>Free</td>\n",
       "      <td>Free</td>\n",
       "      <td>Less than 10K</td>\n",
       "    </tr>\n",
       "    <tr>\n",
       "      <th>7</th>\n",
       "      <td>The Everyday Calendar</td>\n",
       "      <td>Lifestyle</td>\n",
       "      <td>2.0</td>\n",
       "      <td>39.0</td>\n",
       "      <td>500.0</td>\n",
       "      <td>702</td>\n",
       "      <td>0.0</td>\n",
       "      <td>USD</td>\n",
       "      <td>16M</td>\n",
       "      <td>Jun 21, 2019</td>\n",
       "      <td>Jun 21, 2019</td>\n",
       "      <td>Everyone</td>\n",
       "      <td>2021-06-15 20:19:35</td>\n",
       "      <td>Free</td>\n",
       "      <td>Free</td>\n",
       "      <td>Less than 10K</td>\n",
       "    </tr>\n",
       "    <tr>\n",
       "      <th>8</th>\n",
       "      <td>WhatsOpen</td>\n",
       "      <td>Communication</td>\n",
       "      <td>0.0</td>\n",
       "      <td>0.0</td>\n",
       "      <td>10.0</td>\n",
       "      <td>18</td>\n",
       "      <td>0.0</td>\n",
       "      <td>USD</td>\n",
       "      <td>1.3M</td>\n",
       "      <td>NaN</td>\n",
       "      <td>Dec 07, 2018</td>\n",
       "      <td>Teen</td>\n",
       "      <td>2021-06-15 20:19:35</td>\n",
       "      <td>Free</td>\n",
       "      <td>Free</td>\n",
       "      <td>NoRatingProvided</td>\n",
       "    </tr>\n",
       "    <tr>\n",
       "      <th>9</th>\n",
       "      <td>Neon 3d Iron Tech Keyboard Theme</td>\n",
       "      <td>Personalization</td>\n",
       "      <td>4.7</td>\n",
       "      <td>820.0</td>\n",
       "      <td>50000.0</td>\n",
       "      <td>62433</td>\n",
       "      <td>0.0</td>\n",
       "      <td>USD</td>\n",
       "      <td>3.5M</td>\n",
       "      <td>Sep 22, 2019</td>\n",
       "      <td>Oct 07, 2020</td>\n",
       "      <td>Everyone</td>\n",
       "      <td>2021-06-15 20:19:35</td>\n",
       "      <td>Free</td>\n",
       "      <td>Free</td>\n",
       "      <td>Less than 10K</td>\n",
       "    </tr>\n",
       "    <tr>\n",
       "      <th>10</th>\n",
       "      <td>Dodge The Cars!</td>\n",
       "      <td>Racing</td>\n",
       "      <td>4.9</td>\n",
       "      <td>55.0</td>\n",
       "      <td>100.0</td>\n",
       "      <td>329</td>\n",
       "      <td>0.0</td>\n",
       "      <td>USD</td>\n",
       "      <td>51M</td>\n",
       "      <td>Jul 30, 2020</td>\n",
       "      <td>Jul 30, 2020</td>\n",
       "      <td>Everyone</td>\n",
       "      <td>2021-06-15 20:19:35</td>\n",
       "      <td>Free</td>\n",
       "      <td>Free</td>\n",
       "      <td>Less than 10K</td>\n",
       "    </tr>\n",
       "    <tr>\n",
       "      <th>11</th>\n",
       "      <td>Parents</td>\n",
       "      <td>Maps &amp; Navigation</td>\n",
       "      <td>0.0</td>\n",
       "      <td>0.0</td>\n",
       "      <td>100.0</td>\n",
       "      <td>330</td>\n",
       "      <td>0.0</td>\n",
       "      <td>USD</td>\n",
       "      <td>2.7M</td>\n",
       "      <td>Jan 10, 2018</td>\n",
       "      <td>Jun 27, 2018</td>\n",
       "      <td>Everyone</td>\n",
       "      <td>2021-06-15 20:19:36</td>\n",
       "      <td>Free</td>\n",
       "      <td>Free</td>\n",
       "      <td>NoRatingProvided</td>\n",
       "    </tr>\n",
       "    <tr>\n",
       "      <th>12</th>\n",
       "      <td>桃園機場捷運時刻表 - 捷運轉乘路線快速查詢(支援台北捷運)</td>\n",
       "      <td>Travel &amp; Local</td>\n",
       "      <td>3.9</td>\n",
       "      <td>118.0</td>\n",
       "      <td>10000.0</td>\n",
       "      <td>37763</td>\n",
       "      <td>0.0</td>\n",
       "      <td>USD</td>\n",
       "      <td>7.6M</td>\n",
       "      <td>Apr 3, 2018</td>\n",
       "      <td>Jun 11, 2021</td>\n",
       "      <td>Everyone</td>\n",
       "      <td>2021-06-15 20:19:36</td>\n",
       "      <td>Free</td>\n",
       "      <td>Free</td>\n",
       "      <td>Less than 10K</td>\n",
       "    </tr>\n",
       "    <tr>\n",
       "      <th>13</th>\n",
       "      <td>be.MOBILISED</td>\n",
       "      <td>Maps &amp; Navigation</td>\n",
       "      <td>0.0</td>\n",
       "      <td>0.0</td>\n",
       "      <td>100.0</td>\n",
       "      <td>274</td>\n",
       "      <td>0.0</td>\n",
       "      <td>USD</td>\n",
       "      <td>15M</td>\n",
       "      <td>Feb 9, 2020</td>\n",
       "      <td>May 14, 2021</td>\n",
       "      <td>Everyone</td>\n",
       "      <td>2021-06-15 20:19:36</td>\n",
       "      <td>Free</td>\n",
       "      <td>Free</td>\n",
       "      <td>NoRatingProvided</td>\n",
       "    </tr>\n",
       "    <tr>\n",
       "      <th>14</th>\n",
       "      <td>Caliway Conductor</td>\n",
       "      <td>Travel &amp; Local</td>\n",
       "      <td>3.7</td>\n",
       "      <td>1572.0</td>\n",
       "      <td>10000.0</td>\n",
       "      <td>42856</td>\n",
       "      <td>0.0</td>\n",
       "      <td>USD</td>\n",
       "      <td>29M</td>\n",
       "      <td>Sep 5, 2018</td>\n",
       "      <td>May 30, 2020</td>\n",
       "      <td>Everyone</td>\n",
       "      <td>2021-06-15 20:19:36</td>\n",
       "      <td>Free</td>\n",
       "      <td>Free</td>\n",
       "      <td>Less than 10K</td>\n",
       "    </tr>\n",
       "    <tr>\n",
       "      <th>15</th>\n",
       "      <td>Readymade Grocery App</td>\n",
       "      <td>Food &amp; Drink</td>\n",
       "      <td>4.2</td>\n",
       "      <td>16.0</td>\n",
       "      <td>1000.0</td>\n",
       "      <td>4313</td>\n",
       "      <td>0.0</td>\n",
       "      <td>USD</td>\n",
       "      <td>12M</td>\n",
       "      <td>Apr 5, 2020</td>\n",
       "      <td>Mar 23, 2021</td>\n",
       "      <td>Everyone</td>\n",
       "      <td>2021-06-15 20:19:36</td>\n",
       "      <td>Free</td>\n",
       "      <td>Free</td>\n",
       "      <td>Less than 10K</td>\n",
       "    </tr>\n",
       "    <tr>\n",
       "      <th>16</th>\n",
       "      <td>OTENTIK Discovery FR</td>\n",
       "      <td>Travel &amp; Local</td>\n",
       "      <td>3.4</td>\n",
       "      <td>5.0</td>\n",
       "      <td>500.0</td>\n",
       "      <td>949</td>\n",
       "      <td>0.0</td>\n",
       "      <td>USD</td>\n",
       "      <td>2.9M</td>\n",
       "      <td>Nov 28, 2016</td>\n",
       "      <td>Oct 30, 2019</td>\n",
       "      <td>Everyone</td>\n",
       "      <td>2021-06-15 20:19:36</td>\n",
       "      <td>Free</td>\n",
       "      <td>Free</td>\n",
       "      <td>Less than 10K</td>\n",
       "    </tr>\n",
       "    <tr>\n",
       "      <th>17</th>\n",
       "      <td>All in one shopping app</td>\n",
       "      <td>Tools</td>\n",
       "      <td>5.0</td>\n",
       "      <td>6.0</td>\n",
       "      <td>50.0</td>\n",
       "      <td>62</td>\n",
       "      <td>0.0</td>\n",
       "      <td>USD</td>\n",
       "      <td>2.0M</td>\n",
       "      <td>Apr 24, 2019</td>\n",
       "      <td>May 05, 2019</td>\n",
       "      <td>Everyone</td>\n",
       "      <td>2021-06-15 20:19:36</td>\n",
       "      <td>Free</td>\n",
       "      <td>Free</td>\n",
       "      <td>Less than 10K</td>\n",
       "    </tr>\n",
       "    <tr>\n",
       "      <th>18</th>\n",
       "      <td>REDMOND  Robot</td>\n",
       "      <td>Lifestyle</td>\n",
       "      <td>3.7</td>\n",
       "      <td>328.0</td>\n",
       "      <td>10000.0</td>\n",
       "      <td>31235</td>\n",
       "      <td>0.0</td>\n",
       "      <td>USD</td>\n",
       "      <td>70M</td>\n",
       "      <td>Jul 1, 2020</td>\n",
       "      <td>May 26, 2021</td>\n",
       "      <td>Everyone</td>\n",
       "      <td>2021-06-15 20:19:36</td>\n",
       "      <td>Free</td>\n",
       "      <td>Free</td>\n",
       "      <td>Less than 10K</td>\n",
       "    </tr>\n",
       "    <tr>\n",
       "      <th>19</th>\n",
       "      <td>Contemporary Love Wallpaper HD</td>\n",
       "      <td>Books &amp; Reference</td>\n",
       "      <td>0.0</td>\n",
       "      <td>0.0</td>\n",
       "      <td>1.0</td>\n",
       "      <td>2</td>\n",
       "      <td>0.0</td>\n",
       "      <td>XXX</td>\n",
       "      <td>11M</td>\n",
       "      <td>Dec 26, 2020</td>\n",
       "      <td>Mar 23, 2021</td>\n",
       "      <td>Mature</td>\n",
       "      <td>2021-06-15 20:19:36</td>\n",
       "      <td>Free</td>\n",
       "      <td>Free</td>\n",
       "      <td>NoRatingProvided</td>\n",
       "    </tr>\n",
       "  </tbody>\n",
       "</table>\n",
       "</div>"
      ],
      "text/plain": [
       "                                              AppName           Category  \\\n",
       "0                                             Gakondo          Adventure   \n",
       "1                                 Ampere Battery Info              Tools   \n",
       "2                                              Vibook       Productivity   \n",
       "3   Smart City Trichy Public Service Vehicles 17UC...      Communication   \n",
       "4                                             GROW.me              Tools   \n",
       "5                                              IMOCCI             Social   \n",
       "6                    unlimited 4G data prank free app   Libraries & Demo   \n",
       "7                               The Everyday Calendar          Lifestyle   \n",
       "8                                           WhatsOpen      Communication   \n",
       "9                    Neon 3d Iron Tech Keyboard Theme    Personalization   \n",
       "10                                    Dodge The Cars!             Racing   \n",
       "11                                            Parents  Maps & Navigation   \n",
       "12                     桃園機場捷運時刻表 - 捷運轉乘路線快速查詢(支援台北捷運)     Travel & Local   \n",
       "13                                       be.MOBILISED  Maps & Navigation   \n",
       "14                                  Caliway Conductor     Travel & Local   \n",
       "15                              Readymade Grocery App       Food & Drink   \n",
       "16                               OTENTIK Discovery FR     Travel & Local   \n",
       "17                            All in one shopping app              Tools   \n",
       "18                                     REDMOND  Robot          Lifestyle   \n",
       "19                     Contemporary Love Wallpaper HD  Books & Reference   \n",
       "\n",
       "    Rating  RatingCount  MinimumInstalls  MaximumInstalls  Price Currency  \\\n",
       "0      0.0          0.0             10.0               15    0.0      USD   \n",
       "1      4.4         64.0           5000.0             7662    0.0      USD   \n",
       "2      0.0          0.0             50.0               58    0.0      USD   \n",
       "3      5.0          5.0             10.0               19    0.0      USD   \n",
       "4      0.0          0.0            100.0              478    0.0      USD   \n",
       "5      0.0          0.0             50.0               89    0.0      USD   \n",
       "6      4.5         12.0           1000.0             2567    0.0      USD   \n",
       "7      2.0         39.0            500.0              702    0.0      USD   \n",
       "8      0.0          0.0             10.0               18    0.0      USD   \n",
       "9      4.7        820.0          50000.0            62433    0.0      USD   \n",
       "10     4.9         55.0            100.0              329    0.0      USD   \n",
       "11     0.0          0.0            100.0              330    0.0      USD   \n",
       "12     3.9        118.0          10000.0            37763    0.0      USD   \n",
       "13     0.0          0.0            100.0              274    0.0      USD   \n",
       "14     3.7       1572.0          10000.0            42856    0.0      USD   \n",
       "15     4.2         16.0           1000.0             4313    0.0      USD   \n",
       "16     3.4          5.0            500.0              949    0.0      USD   \n",
       "17     5.0          6.0             50.0               62    0.0      USD   \n",
       "18     3.7        328.0          10000.0            31235    0.0      USD   \n",
       "19     0.0          0.0              1.0                2    0.0      XXX   \n",
       "\n",
       "    Size      Released   LastUpdated ContentRating          ScrapedTime  \\\n",
       "0    10M  Feb 26, 2020  Feb 26, 2020      Everyone  2021-06-15 20:19:35   \n",
       "1   2.9M  May 21, 2020  May 06, 2021      Everyone  2021-06-15 20:19:35   \n",
       "2   3.7M   Aug 9, 2019  Aug 19, 2019      Everyone  2021-06-15 20:19:35   \n",
       "3   1.8M  Sep 10, 2018  Oct 13, 2018      Everyone  2021-06-15 20:19:35   \n",
       "4   6.2M  Feb 21, 2020  Nov 12, 2018      Everyone  2021-06-15 20:19:35   \n",
       "5    46M  Dec 24, 2018  Dec 20, 2019          Teen  2021-06-15 20:19:35   \n",
       "6   2.5M  Sep 23, 2019  Sep 27, 2019      Everyone  2021-06-15 20:19:35   \n",
       "7    16M  Jun 21, 2019  Jun 21, 2019      Everyone  2021-06-15 20:19:35   \n",
       "8   1.3M           NaN  Dec 07, 2018          Teen  2021-06-15 20:19:35   \n",
       "9   3.5M  Sep 22, 2019  Oct 07, 2020      Everyone  2021-06-15 20:19:35   \n",
       "10   51M  Jul 30, 2020  Jul 30, 2020      Everyone  2021-06-15 20:19:35   \n",
       "11  2.7M  Jan 10, 2018  Jun 27, 2018      Everyone  2021-06-15 20:19:36   \n",
       "12  7.6M   Apr 3, 2018  Jun 11, 2021      Everyone  2021-06-15 20:19:36   \n",
       "13   15M   Feb 9, 2020  May 14, 2021      Everyone  2021-06-15 20:19:36   \n",
       "14   29M   Sep 5, 2018  May 30, 2020      Everyone  2021-06-15 20:19:36   \n",
       "15   12M   Apr 5, 2020  Mar 23, 2021      Everyone  2021-06-15 20:19:36   \n",
       "16  2.9M  Nov 28, 2016  Oct 30, 2019      Everyone  2021-06-15 20:19:36   \n",
       "17  2.0M  Apr 24, 2019  May 05, 2019      Everyone  2021-06-15 20:19:36   \n",
       "18   70M   Jul 1, 2020  May 26, 2021      Everyone  2021-06-15 20:19:36   \n",
       "19   11M  Dec 26, 2020  Mar 23, 2021        Mature  2021-06-15 20:19:36   \n",
       "\n",
       "   PriceRange  Type        RatingType  \n",
       "0        Free  Free  NoRatingProvided  \n",
       "1        Free  Free     Less than 10K  \n",
       "2        Free  Free  NoRatingProvided  \n",
       "3        Free  Free     Less than 10K  \n",
       "4        Free  Free  NoRatingProvided  \n",
       "5        Free  Free  NoRatingProvided  \n",
       "6        Free  Free     Less than 10K  \n",
       "7        Free  Free     Less than 10K  \n",
       "8        Free  Free  NoRatingProvided  \n",
       "9        Free  Free     Less than 10K  \n",
       "10       Free  Free     Less than 10K  \n",
       "11       Free  Free  NoRatingProvided  \n",
       "12       Free  Free     Less than 10K  \n",
       "13       Free  Free  NoRatingProvided  \n",
       "14       Free  Free     Less than 10K  \n",
       "15       Free  Free     Less than 10K  \n",
       "16       Free  Free     Less than 10K  \n",
       "17       Free  Free     Less than 10K  \n",
       "18       Free  Free     Less than 10K  \n",
       "19       Free  Free  NoRatingProvided  "
      ]
     },
     "execution_count": 35,
     "metadata": {},
     "output_type": "execute_result"
    }
   ],
   "source": [
    "df.head(20)"
   ]
  },
  {
   "cell_type": "markdown",
   "id": "8e61abfb",
   "metadata": {},
   "source": [
    "## Analysis"
   ]
  },
  {
   "cell_type": "code",
   "execution_count": 36,
   "id": "59ff4e6a",
   "metadata": {},
   "outputs": [
    {
     "name": "stdout",
     "output_type": "stream",
     "text": [
      "Category\n",
      "Tools            119849500546\n",
      "Communication     72306404399\n",
      "Productivity      45368330480\n",
      "Name: MaximumInstalls, dtype: int64\n"
     ]
    },
    {
     "name": "stderr",
     "output_type": "stream",
     "text": [
      "C:\\Users\\hp\\anaconda3\\lib\\site-packages\\seaborn\\_decorators.py:36: FutureWarning: Pass the following variables as keyword args: x, y. From version 0.12, the only valid positional argument will be `data`, and passing other arguments without an explicit keyword will result in an error or misinterpretation.\n",
      "  warnings.warn(\n"
     ]
    },
    {
     "data": {
      "text/plain": [
       "(array([0, 1, 2]),\n",
       " [Text(0, 0, 'Tools'),\n",
       "  Text(1, 0, 'Communication'),\n",
       "  Text(2, 0, 'Productivity')])"
      ]
     },
     "execution_count": 36,
     "metadata": {},
     "output_type": "execute_result"
    },
    {
     "data": {
      "image/png": "[encoded data removed]",
      "text/plain": [
       "<Figure size 576x360 with 1 Axes>"
      ]
     },
     "metadata": {
      "needs_background": "light"
     },
     "output_type": "display_data"
    }
   ],
   "source": [
    "category_rating = df.groupby(['Category'])['MaximumInstalls'].sum()\n",
    "category_rating = category_rating.sort_values(ascending=False).head(3)\n",
    "print(category_rating)\n",
    "plt.figure(figsize=(8,5))\n",
    "sns.barplot(category_rating.index, category_rating.values)\n",
    "plt.xticks(rotation=90)"
   ]
  },
  {
   "cell_type": "markdown",
   "id": "bfdb839f",
   "metadata": {},
   "source": [
    "This graph shows us that the educational category is rated the most in terms of the rating counts. This clearly shows that the customers that install the educational apps are much likely to give a review."
   ]
  },
  {
   "cell_type": "code",
   "execution_count": 37,
   "id": "05866d4f",
   "metadata": {},
   "outputs": [
    {
     "name": "stdout",
     "output_type": "stream",
     "text": [
      "Tools account 16.18 % of all the installations\n"
     ]
    }
   ],
   "source": [
    "category_rating = df.groupby(['Category'])['MaximumInstalls'].sum().sort_values(ascending=False).head(1)\n",
    "total_installs = df['MaximumInstalls'].sum() \n",
    "for i in category_rating.values:\n",
    "    print('Tools account', round(100*i/total_installs,2), '%', 'of all the installations')"
   ]
  },
  {
   "cell_type": "code",
   "execution_count": 38,
   "id": "11bf7297",
   "metadata": {
    "scrolled": false
   },
   "outputs": [
    {
     "name": "stderr",
     "output_type": "stream",
     "text": [
      "C:\\Users\\hp\\anaconda3\\lib\\site-packages\\seaborn\\_decorators.py:36: FutureWarning: Pass the following variables as keyword args: x, y. From version 0.12, the only valid positional argument will be `data`, and passing other arguments without an explicit keyword will result in an error or misinterpretation.\n",
      "  warnings.warn(\n"
     ]
    },
    {
     "data": {
      "text/plain": [
       "(array([ 0,  1,  2,  3,  4,  5,  6,  7,  8,  9, 10, 11, 12, 13, 14, 15, 16,\n",
       "        17, 18, 19, 20, 21, 22, 23, 24, 25, 26, 27, 28, 29, 30, 31, 32, 33,\n",
       "        34, 35, 36, 37, 38, 39, 40, 41, 42, 43, 44, 45]),\n",
       " [Text(0, 0, 'Action'),\n",
       "  Text(1, 0, 'Adventure'),\n",
       "  Text(2, 0, 'Arcade'),\n",
       "  Text(3, 0, 'Art & Design'),\n",
       "  Text(4, 0, 'Auto & Vehicles'),\n",
       "  Text(5, 0, 'Beauty'),\n",
       "  Text(6, 0, 'Board'),\n",
       "  Text(7, 0, 'Books & Reference'),\n",
       "  Text(8, 0, 'Business'),\n",
       "  Text(9, 0, 'Card'),\n",
       "  Text(10, 0, 'Casino'),\n",
       "  Text(11, 0, 'Casual'),\n",
       "  Text(12, 0, 'Comics'),\n",
       "  Text(13, 0, 'Communication'),\n",
       "  Text(14, 0, 'Dating'),\n",
       "  Text(15, 0, 'Education'),\n",
       "  Text(16, 0, 'Entertainment'),\n",
       "  Text(17, 0, 'Events'),\n",
       "  Text(18, 0, 'Finance'),\n",
       "  Text(19, 0, 'Food & Drink'),\n",
       "  Text(20, 0, 'Health & Fitness'),\n",
       "  Text(21, 0, 'House & Home'),\n",
       "  Text(22, 0, 'Libraries & Demo'),\n",
       "  Text(23, 0, 'Lifestyle'),\n",
       "  Text(24, 0, 'Maps & Navigation'),\n",
       "  Text(25, 0, 'Medical'),\n",
       "  Text(26, 0, 'Music'),\n",
       "  Text(27, 0, 'News & Magazines'),\n",
       "  Text(28, 0, 'Parenting'),\n",
       "  Text(29, 0, 'Personalization'),\n",
       "  Text(30, 0, 'Photography'),\n",
       "  Text(31, 0, 'Productivity'),\n",
       "  Text(32, 0, 'Puzzle'),\n",
       "  Text(33, 0, 'Racing'),\n",
       "  Text(34, 0, 'Role Playing'),\n",
       "  Text(35, 0, 'Shopping'),\n",
       "  Text(36, 0, 'Simulation'),\n",
       "  Text(37, 0, 'Social'),\n",
       "  Text(38, 0, 'Sports'),\n",
       "  Text(39, 0, 'Strategy'),\n",
       "  Text(40, 0, 'Tools'),\n",
       "  Text(41, 0, 'Travel & Local'),\n",
       "  Text(42, 0, 'Trivia'),\n",
       "  Text(43, 0, 'Video Players & Editors'),\n",
       "  Text(44, 0, 'Weather'),\n",
       "  Text(45, 0, 'Word')])"
      ]
     },
     "execution_count": 38,
     "metadata": {},
     "output_type": "execute_result"
    },
    {
     "data": {
      "image/png": "[encoded data removed]",
      "text/plain": [
       "<Figure size 1080x648 with 1 Axes>"
      ]
     },
     "metadata": {
      "needs_background": "light"
     },
     "output_type": "display_data"
    }
   ],
   "source": [
    "category_rating = df.groupby(['Category'])['MaximumInstalls'].sum()\n",
    "plt.figure(figsize=(15,9))\n",
    "sns.barplot(category_rating.index, category_rating.values)\n",
    "plt.xticks(rotation=90)"
   ]
  },
  {
   "cell_type": "code",
   "execution_count": 39,
   "id": "8c4bc20e",
   "metadata": {},
   "outputs": [
    {
     "data": {
      "text/plain": [
       "<AxesSubplot:xlabel='Rating', ylabel='Category'>"
      ]
     },
     "execution_count": 39,
     "metadata": {},
     "output_type": "execute_result"
    },
    {
     "data": {
      "image/png": "[encoded data removed]",
      "text/plain": [
       "<Figure size 432x1152 with 1 Axes>"
      ]
     },
     "metadata": {
      "needs_background": "light"
     },
     "output_type": "display_data"
    }
   ],
   "source": [
    "plt.figure(figsize=(6,16))\n",
    "sns.barplot(x=df['Rating'], y=df['Category'])"
   ]
  },
  {
   "cell_type": "markdown",
   "id": "43df66c3",
   "metadata": {},
   "source": [
    "This graph shows us that on an average basis the Role Playing app type have the highest rating."
   ]
  },
  {
   "cell_type": "code",
   "execution_count": 40,
   "id": "fa8a6f02",
   "metadata": {},
   "outputs": [
    {
     "data": {
      "text/plain": [
       "<AxesSubplot:xlabel='MaximumInstalls', ylabel='RatingCount'>"
      ]
     },
     "execution_count": 40,
     "metadata": {},
     "output_type": "execute_result"
    },
    {
     "data": {
      "image/png": "[encoded data removed]",
      "text/plain": [
       "<Figure size 576x576 with 1 Axes>"
      ]
     },
     "metadata": {
      "needs_background": "light"
     },
     "output_type": "display_data"
    }
   ],
   "source": [
    "plt.figure(figsize=(8,8))\n",
    "sns.scatterplot(x='MaximumInstalls',y='RatingCount',data=df,hue='ContentRating')"
   ]
  },
  {
   "cell_type": "markdown",
   "id": "8e15a0bc",
   "metadata": {},
   "source": [
    "This scatterplot shows us that when we exclude everyone and only focus on teen, matures and adult we can see that teens have much engagement in terms of download and rating count."
   ]
  },
  {
   "cell_type": "code",
   "execution_count": 41,
   "id": "69748c52",
   "metadata": {
    "scrolled": false
   },
   "outputs": [
    {
     "data": {
      "text/plain": [
       "<AxesSubplot:xlabel='PriceRange', ylabel='Rating'>"
      ]
     },
     "execution_count": 41,
     "metadata": {},
     "output_type": "execute_result"
    },
    {
     "data": {
      "image/png": "[encoded data removed]",
      "text/plain": [
       "<Figure size 864x504 with 1 Axes>"
      ]
     },
     "metadata": {
      "needs_background": "light"
     },
     "output_type": "display_data"
    }
   ],
   "source": [
    "plt.figure(figsize=(12,7))\n",
    "sns.boxplot(x='PriceRange', y='Rating', data = df, palette = 'winter')"
   ]
  },
  {
   "cell_type": "code",
   "execution_count": 42,
   "id": "36b0ceb8",
   "metadata": {},
   "outputs": [
    {
     "data": {
      "text/plain": [
       "<AxesSubplot:>"
      ]
     },
     "execution_count": 42,
     "metadata": {},
     "output_type": "execute_result"
    },
    {
     "data": {
      "image/png": "[encoded data removed]",
      "text/plain": [
       "<Figure size 432x288 with 1 Axes>"
      ]
     },
     "metadata": {
      "needs_background": "light"
     },
     "output_type": "display_data"
    }
   ],
   "source": [
    "df['Rating'].hist(bins=20,color='darkred')"
   ]
  },
  {
   "cell_type": "markdown",
   "id": "a78f0663",
   "metadata": {},
   "source": [
    "It looks like, there are much more apps with no rating. We might get a better visual if omit them:"
   ]
  },
  {
   "cell_type": "code",
   "execution_count": 43,
   "id": "4b2b5b5f",
   "metadata": {},
   "outputs": [
    {
     "data": {
      "text/plain": [
       "<AxesSubplot:>"
      ]
     },
     "execution_count": 43,
     "metadata": {},
     "output_type": "execute_result"
    },
    {
     "data": {
      "image/png": "[encoded data removed]",
      "text/plain": [
       "<Figure size 432x288 with 1 Axes>"
      ]
     },
     "metadata": {
      "needs_background": "light"
     },
     "output_type": "display_data"
    }
   ],
   "source": [
    "over_0 = df[df['Rating'] > 0]['Rating']\n",
    "over_0.hist(bins=20, color='darkred')"
   ]
  },
  {
   "cell_type": "markdown",
   "id": "3be1483d",
   "metadata": {},
   "source": [
    "Histogram shows that majority of the apps are rated between ~ 3.7 and 5. It is also surprising to see so many 5-star ratings."
   ]
  },
  {
   "cell_type": "code",
   "execution_count": 44,
   "id": "ed0ebc2f",
   "metadata": {},
   "outputs": [
    {
     "data": {
      "image/png": "[encoded data removed]",
      "text/plain": [
       "<Figure size 432x288 with 1 Axes>"
      ]
     },
     "metadata": {
      "needs_background": "light"
     },
     "output_type": "display_data"
    }
   ],
   "source": [
    "paid_apps = df[(df.Type=='Paid') & (df.MinimumInstalls == 5000000) | ((df.Type=='Paid') & (df.MinimumInstalls == 10000000))]\n",
    "paid_apps = paid_apps.groupby(['AppName'])['Rating'].mean().sort_values(ascending=False)\n",
    "paid_apps = paid_apps.head(10)\n",
    "plt.title(\"Top Paid Apps based on highest ratings and installs\")\n",
    "\n",
    "sns.lineplot(x=paid_apps.values,y=paid_apps.index,color='g');"
   ]
  },
  {
   "cell_type": "code",
   "execution_count": 45,
   "id": "b3adb51f",
   "metadata": {
    "scrolled": true
   },
   "outputs": [
    {
     "data": {
      "image/png": "[encoded data removed]",
      "text/plain": [
       "<Figure size 432x288 with 1 Axes>"
      ]
     },
     "metadata": {
      "needs_background": "light"
     },
     "output_type": "display_data"
    }
   ],
   "source": [
    "free_apps = df[(df.Type=='Free') & (df.MinimumInstalls == 5000000) | ((df.Type=='Free') & (df.MinimumInstalls == 10000000))]\n",
    "free_apps = free_apps.groupby(['AppName'])['Rating'].mean().sort_values(ascending=False)\n",
    "free_apps = free_apps.head(5)\n",
    "plt.title(\"Top Free Apps based on highest ratings and installs\")\n",
    "\n",
    "sns.lineplot(x=free_apps.values,y=free_apps.index,color='b');"
   ]
  },
  {
   "cell_type": "code",
   "execution_count": 46,
   "id": "a5b91e18",
   "metadata": {},
   "outputs": [
    {
     "data": {
      "image/png": "[encoded data removed]",
      "text/plain": [
       "<Figure size 1440x1440 with 4 Axes>"
      ]
     },
     "metadata": {},
     "output_type": "display_data"
    }
   ],
   "source": [
    "plt.figure(figsize=(20,20))\n",
    "\n",
    "plt.subplot(2,2,1)     \n",
    "TeensCategory= df[(df.ContentRating =='Teen')]\n",
    "TeensCategory= TeensCategory.groupby(['Category'])['MaximumInstalls'].sum()\n",
    "TeensCategory= TeensCategory.sort_values(ascending=False).head(5)\n",
    "labels = TeensCategory.keys()\n",
    "plt.pie(x=TeensCategory, autopct=\"%.1f%%\", explode=[0.05]*5, labels=labels)\n",
    "plt.title(\"Teens Installing apps in terms of category\", fontsize=14)\n",
    "\n",
    "\n",
    "plt.subplot(2,2,2)\n",
    "\n",
    "MatureCategory = df[(df.ContentRating=='Mature')]\n",
    "MatureCategory = MatureCategory.groupby(['Category'])['MaximumInstalls'].sum()\n",
    "MatureCategory = MatureCategory.sort_values(ascending=False).head(5)\n",
    "labels = MatureCategory.keys()\n",
    "plt.pie(x=MatureCategory, autopct=\"%.1f%%\", explode=[0.05]*5, labels=labels)\n",
    "plt.title(\"Mature Installing apps in terms of category\", fontsize=14)\n",
    "\n",
    "\n",
    "plt.subplot(2,2,3)\n",
    "\n",
    "AdultsCategory = df[(df.ContentRating=='Adults')]\n",
    "AdultsCategory = AdultsCategory.groupby(['Category'])['MaximumInstalls'].sum()\n",
    "AdultsCategory = AdultsCategory.sort_values(ascending=False).head(5)\n",
    "labels = AdultsCategory.keys()\n",
    "plt.pie(x=AdultsCategory, autopct=\"%.1f%%\", explode=[0.05]*5, labels=labels)\n",
    "plt.title(\"Adults Installing apps in terms of category\", fontsize=14)\n",
    "\n",
    "\n",
    "plt.subplot(2,2,4)\n",
    "\n",
    "Groupby_category = df.groupby(['Category'])['MaximumInstalls'].sum().sort_values(ascending=False)\n",
    "Groupby_category = Groupby_category.head(5)\n",
    "labels = Groupby_category.keys()\n",
    "plt.pie(x=Groupby_category, autopct=\"%.1f%%\", explode=[0.05]*5, labels=labels, pctdistance=0.5)\n",
    "plt.title(\"Everyone Installing apps in terms of category\", fontsize=14);"
   ]
  },
  {
   "cell_type": "markdown",
   "id": "62721c03",
   "metadata": {},
   "source": [
    "Above chart proves that adults are much into sports.\n",
    "If we consider everyone then tools category is preferred the most but the distiction is not much."
   ]
  },
  {
   "cell_type": "markdown",
   "id": "07bdc015",
   "metadata": {},
   "source": [
    "## Conclusion:\n",
    "\n",
    "This dataset clearly showed how Google Playstore market is so competitive. \n",
    "\n",
    "- More than half of the apps had close to 0 ratings and installs.\n",
    "- Tools category is preferred the most out of all other catergories, i.e., 16.18% out of more than 50 categories.\n",
    "- Teens have much engagement in terms of download and rating count.\n",
    "- Factors like AdSupport and InappPurchases are correlated to app rating. So we can say that if the app provides customer support and have subscription plans we can engage more customers. \n",
    "- Adults are much more into sports (~ 71%).\n",
    "- MineCraft is a paid app which lies in top 10 highest installed apps and with highest average rating (~ 4.6).\n",
    "- Maps master for MineCraft is a free app which lies in top 10 highest installed apps and with highest average rating (~ 5)."
   ]
  }
 ],
 "metadata": {
  "kernelspec": {
   "display_name": "Python 3 (ipykernel)",
   "language": "python",
   "name": "python3"
  },
  "language_info": {
   "codemirror_mode": {
    "name": "ipython",
    "version": 3
   },
   "file_extension": ".py",
   "mimetype": "text/x-python",
   "name": "python",
   "nbconvert_exporter": "python",
   "pygments_lexer": "ipython3",
   "version": "3.9.12"
  }
 },
 "nbformat": 4,
 "nbformat_minor": 5
}
